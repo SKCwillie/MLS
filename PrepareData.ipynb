{
 "cells": [
  {
   "cell_type": "code",
   "execution_count": 137,
   "metadata": {
    "collapsed": true
   },
   "outputs": [],
   "source": [
    "import pandas as pd\n",
    "import requests\n",
    "from bs4 import BeautifulSoup\n",
    "import numpy as np\n",
    "import re\n",
    "ROOT = '/home/robert/DataSpellProjects/MLS'\n",
    "CURRENT_YEAR = 2022"
   ]
  },
  {
   "cell_type": "code",
   "execution_count": 138,
   "outputs": [],
   "source": [
    "def split_score(score):\n",
    "    split = score.split('-')\n",
    "    if '(' not in score:\n",
    "        return split[0], split[1]\n",
    "    else:\n",
    "        return split[0].split(') ')[1], split[1].split(' (')[0]"
   ],
   "metadata": {
    "collapsed": false,
    "pycharm": {
     "name": "#%%\n"
    }
   }
  },
  {
   "cell_type": "code",
   "execution_count": 139,
   "outputs": [],
   "source": [
    "def get_winner(home_team, away_team, score):\n",
    "    home_score, away_score = split_score(score)\n",
    "    if home_score > away_score:\n",
    "        return home_team\n",
    "    elif away_score > home_score:\n",
    "        return away_team\n",
    "    # Return regular season Tie\n",
    "    elif '(' not in score and home_score == away_score:\n",
    "        return np.nan\n",
    "    elif '(' in score and home_score == away_score:\n",
    "        home_pen = score.split('-')[0]\n",
    "        home_pen = int(re.search('\\(([^)]+)', home_pen).group(1))\n",
    "        away_pen = score.split('-')[1]\n",
    "        away_pen = int(re.search('\\(([^)]+)', away_pen).group(1))\n",
    "        if home_pen > away_pen:\n",
    "            return home_team\n",
    "        else:\n",
    "            return away_team"
   ],
   "metadata": {
    "collapsed": false,
    "pycharm": {
     "name": "#%%\n"
    }
   }
  },
  {
   "cell_type": "code",
   "execution_count": 140,
   "outputs": [],
   "source": [
    "def generate_games_played(code, year):\n",
    "    \"\"\"Giver a year and code, this script will go scrape sports-reference, create a csv, and return a df\"\"\"\n",
    "    if year==CURRENT_YEAR:\n",
    "        url = 'https://fbref.com/en/comps/22/schedule/Major-League-Soccer-Scores-and-Fixtures'\n",
    "        page = requests.get(url)\n",
    "        soup = BeautifulSoup(page.content, 'html.parser')\n",
    "        table = soup.find_all('table', {'id': 'sched_11499_1'})\n",
    "        df = pd.read_html(str(table))[0]\n",
    "        if 'Round' not in list(df.columns):\n",
    "            df['Round']='Regular Season'\n",
    "        df = df[df.Score != 'Score']\n",
    "    else:\n",
    "        url = f'https://fbref.com/en/comps/22/{code}/schedule/{year}-Major-League-Soccer-Scores-and-Fixtures'\n",
    "        page = requests.get(url)\n",
    "        soup = BeautifulSoup(page.content, 'html.parser')\n",
    "        table = soup.find_all('table', {'id': 'sched_all'})\n",
    "        df = pd.read_html(str(table))[0]\n",
    "\n",
    "    try:\n",
    "        columns = ['Round', 'Date', 'Home', 'xG', 'Score', 'xG.1', 'Away', 'Attendance']\n",
    "        df = df[columns]\n",
    "    except KeyError:\n",
    "        columns = ['Round', 'Date', 'Home', 'Score', 'Away', 'Attendance']\n",
    "        df = df[columns]\n",
    "    df['GHome'] = np.nan\n",
    "    df['GAway'] = np.nan\n",
    "    df['Winner'] = np.nan\n",
    "    df['Season'] = np.nan\n",
    "    for i in df.index:\n",
    "        try:\n",
    "            df.at[i, 'Score']=df.at[i, 'Score'].replace('–', '-')\n",
    "        except AttributeError:\n",
    "            df.drop([i], inplace=True)\n",
    "            continue\n",
    "        if df.at[i, 'Round']=='Round':\n",
    "            df.drop([i], inplace=True)\n",
    "            continue\n",
    "        df.at[i, 'Season'] = year\n",
    "        df.at[i, 'GHome'], df.at[i, 'GAway'] = split_score(df.at[i, 'Score'])\n",
    "        df.at[i, 'Winner'] = get_winner(df.at[i, 'Home'], df.at[i, 'Away'], df.at[i, 'Score'])\n",
    "    df['GHome'] = df.GHome.astype('int64')\n",
    "    df['GAway'] = df.GAway.astype('int64')\n",
    "    df['Season'] = df.Season.astype('int64')\n",
    "    df['Attendance'].fillna(0, inplace=True)\n",
    "    df['Attendance'] = df.Attendance.astype('int64')\n",
    "    df.rename(columns={'xG': 'xGH', 'xG.1':'xGA'}, inplace=True)\n",
    "    df.drop(['Score'], axis=1, inplace=True)\n",
    "    df.to_csv(f'{ROOT}/Results/{year}.csv')\n",
    "    return df"
   ],
   "metadata": {
    "collapsed": false,
    "pycharm": {
     "name": "#%%\n"
    }
   }
  },
  {
   "cell_type": "code",
   "execution_count": 141,
   "outputs": [],
   "source": [
    "url_codes = {2022:0, 2021: 11006, 2020: 10090, 2019:2798, 2018:1759, 2017:1558, 2016:1503, 2015:1369, 2014:708, 2013:643, 2012:577, 2011:509, 2010:442, 2009:374, 2008:316, 2007:260, 2006:211, 2005:168, 2004:133, 2003:100, 2002:75, 2001:56, 2000:44, 1999:37, 1998:34, 1997: 32, 1996: 30}"
   ],
   "metadata": {
    "collapsed": false,
    "pycharm": {
     "name": "#%%\n"
    }
   }
  },
  {
   "cell_type": "code",
   "execution_count": 142,
   "outputs": [],
   "source": [
    "AllYears = pd.DataFrame()\n",
    "for year in url_codes:\n",
    "    df = generate_games_played(url_codes[year], year)\n",
    "    df = df[['Season','Round', 'Date', 'Home', 'GHome', 'GAway', 'Away','Winner']]\n",
    "    AllYears = pd.concat([AllYears, df], ignore_index=True)\n",
    "AllYears.to_csv(f'{ROOT}/Results/AllYears.csv')"
   ],
   "metadata": {
    "collapsed": false,
    "pycharm": {
     "name": "#%%\n"
    }
   }
  },
  {
   "cell_type": "code",
   "execution_count": 143,
   "outputs": [
    {
     "data": {
      "text/plain": "      Season              Round        Date            Home  GHome  GAway  \\\n0       2022     Regular Season  2022-02-26    Philadelphia      1      1   \n1       2022     Regular Season  2022-02-26  Los Angeles FC      3      0   \n2       2022     Regular Season  2022-02-26   Columbus Crew      4      0   \n3       2022     Regular Season  2022-02-26       FC Dallas      1      1   \n4       2022     Regular Season  2022-02-26        San Jose      1      3   \n...      ...                ...         ...             ...    ...    ...   \n7020    1996  Conference Finals  1996-10-10       LA Galaxy      2      1   \n7021    1996  Conference Finals  1996-10-10     D.C. United      4      1   \n7022    1996  Conference Finals  1996-10-12       Tampa Bay      1      2   \n7023    1996  Conference Finals  1996-10-13          KC Wiz      1      1   \n7024    1996        MLS Cup '96  1996-10-20       LA Galaxy      2      3   \n\n                 Away          Winner  \n0       Minnesota Utd             NaN  \n1     Colorado Rapids  Los Angeles FC  \n2           Vancouver   Columbus Crew  \n3          Toronto FC             NaN  \n4        NY Red Bulls    NY Red Bulls  \n...               ...             ...  \n7020           KC Wiz       LA Galaxy  \n7021        Tampa Bay     D.C. United  \n7022      D.C. United     D.C. United  \n7023        LA Galaxy       LA Galaxy  \n7024      D.C. United     D.C. United  \n\n[7025 rows x 8 columns]",
      "text/html": "<div>\n<style scoped>\n    .dataframe tbody tr th:only-of-type {\n        vertical-align: middle;\n    }\n\n    .dataframe tbody tr th {\n        vertical-align: top;\n    }\n\n    .dataframe thead th {\n        text-align: right;\n    }\n</style>\n<table border=\"1\" class=\"dataframe\">\n  <thead>\n    <tr style=\"text-align: right;\">\n      <th></th>\n      <th>Season</th>\n      <th>Round</th>\n      <th>Date</th>\n      <th>Home</th>\n      <th>GHome</th>\n      <th>GAway</th>\n      <th>Away</th>\n      <th>Winner</th>\n    </tr>\n  </thead>\n  <tbody>\n    <tr>\n      <th>0</th>\n      <td>2022</td>\n      <td>Regular Season</td>\n      <td>2022-02-26</td>\n      <td>Philadelphia</td>\n      <td>1</td>\n      <td>1</td>\n      <td>Minnesota Utd</td>\n      <td>NaN</td>\n    </tr>\n    <tr>\n      <th>1</th>\n      <td>2022</td>\n      <td>Regular Season</td>\n      <td>2022-02-26</td>\n      <td>Los Angeles FC</td>\n      <td>3</td>\n      <td>0</td>\n      <td>Colorado Rapids</td>\n      <td>Los Angeles FC</td>\n    </tr>\n    <tr>\n      <th>2</th>\n      <td>2022</td>\n      <td>Regular Season</td>\n      <td>2022-02-26</td>\n      <td>Columbus Crew</td>\n      <td>4</td>\n      <td>0</td>\n      <td>Vancouver</td>\n      <td>Columbus Crew</td>\n    </tr>\n    <tr>\n      <th>3</th>\n      <td>2022</td>\n      <td>Regular Season</td>\n      <td>2022-02-26</td>\n      <td>FC Dallas</td>\n      <td>1</td>\n      <td>1</td>\n      <td>Toronto FC</td>\n      <td>NaN</td>\n    </tr>\n    <tr>\n      <th>4</th>\n      <td>2022</td>\n      <td>Regular Season</td>\n      <td>2022-02-26</td>\n      <td>San Jose</td>\n      <td>1</td>\n      <td>3</td>\n      <td>NY Red Bulls</td>\n      <td>NY Red Bulls</td>\n    </tr>\n    <tr>\n      <th>...</th>\n      <td>...</td>\n      <td>...</td>\n      <td>...</td>\n      <td>...</td>\n      <td>...</td>\n      <td>...</td>\n      <td>...</td>\n      <td>...</td>\n    </tr>\n    <tr>\n      <th>7020</th>\n      <td>1996</td>\n      <td>Conference Finals</td>\n      <td>1996-10-10</td>\n      <td>LA Galaxy</td>\n      <td>2</td>\n      <td>1</td>\n      <td>KC Wiz</td>\n      <td>LA Galaxy</td>\n    </tr>\n    <tr>\n      <th>7021</th>\n      <td>1996</td>\n      <td>Conference Finals</td>\n      <td>1996-10-10</td>\n      <td>D.C. United</td>\n      <td>4</td>\n      <td>1</td>\n      <td>Tampa Bay</td>\n      <td>D.C. United</td>\n    </tr>\n    <tr>\n      <th>7022</th>\n      <td>1996</td>\n      <td>Conference Finals</td>\n      <td>1996-10-12</td>\n      <td>Tampa Bay</td>\n      <td>1</td>\n      <td>2</td>\n      <td>D.C. United</td>\n      <td>D.C. United</td>\n    </tr>\n    <tr>\n      <th>7023</th>\n      <td>1996</td>\n      <td>Conference Finals</td>\n      <td>1996-10-13</td>\n      <td>KC Wiz</td>\n      <td>1</td>\n      <td>1</td>\n      <td>LA Galaxy</td>\n      <td>LA Galaxy</td>\n    </tr>\n    <tr>\n      <th>7024</th>\n      <td>1996</td>\n      <td>MLS Cup '96</td>\n      <td>1996-10-20</td>\n      <td>LA Galaxy</td>\n      <td>2</td>\n      <td>3</td>\n      <td>D.C. United</td>\n      <td>D.C. United</td>\n    </tr>\n  </tbody>\n</table>\n<p>7025 rows × 8 columns</p>\n</div>"
     },
     "execution_count": 143,
     "metadata": {},
     "output_type": "execute_result"
    }
   ],
   "source": [
    "AllYears"
   ],
   "metadata": {
    "collapsed": false,
    "pycharm": {
     "name": "#%%\n"
    }
   }
  }
 ],
 "metadata": {
  "kernelspec": {
   "display_name": "Python 3",
   "language": "python",
   "name": "python3"
  },
  "language_info": {
   "codemirror_mode": {
    "name": "ipython",
    "version": 2
   },
   "file_extension": ".py",
   "mimetype": "text/x-python",
   "name": "python",
   "nbconvert_exporter": "python",
   "pygments_lexer": "ipython2",
   "version": "2.7.6"
  }
 },
 "nbformat": 4,
 "nbformat_minor": 0
}