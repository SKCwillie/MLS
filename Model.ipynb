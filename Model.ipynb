{
 "cells": [
  {
   "cell_type": "code",
   "execution_count": 1109,
   "metadata": {
    "collapsed": true
   },
   "outputs": [],
   "source": [
    "import numpy as np\n",
    "import pandas as pd\n",
    "import geopandas as gpd\n",
    "import datetime\n",
    "from geopy.distance import geodesic\n",
    "ROOT = '/home/robert/.config/JetBrains/DataSpell2021.3/projects/MLS'\n",
    "INITIAL_ELO = 1400\n",
    "K = 20\n",
    "HOME_ADV = 90"
   ]
  },
  {
   "cell_type": "code",
   "execution_count": 1110,
   "outputs": [],
   "source": [
    "AllYears = pd.read_csv(f'{ROOT}/Results/AllYears.csv', index_col=0)\n",
    "Schedule = pd.read_csv(f'{ROOT}/Results/2022Schedule.csv')\n",
    "AllYears.drop(['Venue'], axis=1, inplace=True)\n",
    "AllYears = AllYears.sort_values(by=['Date'])\n",
    "AllYears['EloDiff'] = np.nan"
   ],
   "metadata": {
    "collapsed": false,
    "pycharm": {
     "name": "#%%\n"
    }
   }
  },
  {
   "cell_type": "code",
   "execution_count": 1111,
   "outputs": [],
   "source": [
    "teams = {'Atlanta Utd': ['ATL', 'Atlanta'],\n",
    "         'Austin FC': ['ATX', 'Austin'],\n",
    "         'CF Montréal': ['MTL', 'Montreal'],\n",
    "         'CF Montreal': ['MTL', 'Montreal'],\n",
    "         'Charlotte FC': ['CLT', 'Charlotte'],\n",
    "         'Chicago Fire': ['CHI', 'Chicago'],\n",
    "         'Chivas USA': ['CHV', 'Los Angeles'],\n",
    "         'Colorado Rapids': ['COL', 'Denver'],\n",
    "         'Columbus Crew': ['CLB', 'Columbus'],\n",
    "         'D.C. United': ['DC', 'Washington DC'],\n",
    "         'Dallas Burn': ['DAL', 'Dallas'],\n",
    "         'FC Cincinnati': ['CIN', 'Cincinnati'],\n",
    "         'FC Dallas': ['DAL', 'Dallas'],\n",
    "         'Houston Dynamo': ['HOU', 'Houston'],\n",
    "         'Inter Miami': ['MIA', 'Miami'],\n",
    "         'KC Wiz': ['SKC', 'Kansas City'],\n",
    "         'KC Wizards': ['SKC', 'Kansas City'],\n",
    "         'LA Galaxy': ['LA', 'Los Angeles'],\n",
    "         'Los Angeles FC': ['LAFC', 'Los Angeles'],\n",
    "         'MetroStars': ['RBNY', 'New York'],\n",
    "         'Miami Fusion': ['MIAF', 'Miami'],\n",
    "         'Minnesota Utd': ['MIN', 'Saint Paul'],\n",
    "         'Montreal Impact': ['MTL', 'Montreal Impact'],\n",
    "         'NY Red Bulls': ['RBNY', 'New York'],\n",
    "         'NYCFC': ['NYC', 'New York'],\n",
    "         'Nashville': ['NSH', 'Nashville'],\n",
    "         'New England': ['NE', 'Foxborough'],\n",
    "         'Orlando City': ['ORL', 'Orlando'],\n",
    "         'Philadelphia': ['PHI', 'Chester'],\n",
    "         'Portland Timbers': ['POR', 'Portland'],\n",
    "         'Real Salt Lake': ['RSL', 'Sandy'],\n",
    "         'San Jose': ['SJ', 'San Jose'],\n",
    "         'Seattle': ['SEA', 'Seattle'],\n",
    "         'Sporting KC': ['SKC', 'Kansas City'],\n",
    "         'Tampa Bay': ['TB', 'Tampa Bay'],\n",
    "         'Toronto FC': ['TOR', 'Toronto'],\n",
    "         'Vancouver': ['VAN', 'Vancouver']\n",
    "             }\n",
    "elo = {}"
   ],
   "metadata": {
    "collapsed": false,
    "pycharm": {
     "name": "#%%\n"
    }
   }
  },
  {
   "cell_type": "code",
   "execution_count": 1112,
   "outputs": [],
   "source": [
    "def get_distance(city1, city2):\n",
    "    def get_lat_long(city):\n",
    "        lat = gpd.tools.geocode(city).geometry.y.values[0]\n",
    "        long = gpd.tools.geocode(city).geometry.x.values[0]\n",
    "        return (lat, long)\n",
    "    return int(geodesic(get_lat_long(city1), get_lat_long(city2)).mi)"
   ],
   "metadata": {
    "collapsed": false,
    "pycharm": {
     "name": "#%%\n"
    }
   }
  },
  {
   "cell_type": "markdown",
   "source": [
    "## Elo Functions"
   ],
   "metadata": {
    "collapsed": false
   }
  },
  {
   "cell_type": "code",
   "execution_count": 1113,
   "outputs": [],
   "source": [
    "def win_chance(elo1, elo2):\n",
    "    \"\"\"Given elo1 and elo2, will return the chance of elo1 winning\"\"\"\n",
    "    return  1 / ( 1 + 10**((elo2-elo1)/400) )\n",
    "\n",
    "def get_g(score1, score2):\n",
    "    if score2 > score1:\n",
    "        score1, score2 = score2, score1\n",
    "    if score1 - score2 <=1:\n",
    "        return 1\n",
    "    elif score1 - score2 == 2:\n",
    "        return 1.5\n",
    "    else:\n",
    "        return (11 + score1 - score2) / 8\n",
    "\n",
    "def update_elo(home_elo, away_elo, home_score, away_score):\n",
    "    G = get_g(home_score, away_score)\n",
    "    if home_score==away_score:\n",
    "        W = 0.5\n",
    "    elif home_score > away_score:\n",
    "        W = 1\n",
    "    else:\n",
    "        W = 0\n",
    "    We = win_chance(home_elo + HOME_ADV, away_elo)\n",
    "    elo_change = K * G * (W - We)\n",
    "    home_elo += elo_change\n",
    "    away_elo -= elo_change\n",
    "    return int(round(home_elo, 0)), int(round(away_elo, 0))"
   ],
   "metadata": {
    "collapsed": false,
    "pycharm": {
     "name": "#%%\n"
    }
   }
  },
  {
   "cell_type": "code",
   "execution_count": 1114,
   "outputs": [],
   "source": [
    "for i in AllYears.index:\n",
    "    AllYears.at[i, 'Home'] = teams[AllYears.at[i, 'Home']][0]\n",
    "    AllYears.at[i, 'Away'] = teams[AllYears.at[i, 'Away']][0]\n",
    "    if AllYears.at[i, 'Winner'] == AllYears.at[i, 'Winner']:\n",
    "        AllYears.at[i, 'Winner'] = teams[AllYears.at[i, 'Winner']][0]\n",
    "    else:\n",
    "        AllYears.at[i, 'Winner'] = 'Draw'\n",
    "    if AllYears.at[i, 'Home'] not in elo:\n",
    "        elo[AllYears.at[i, 'Home']]=[INITIAL_ELO, AllYears.at[i, 'Season']]\n",
    "    if AllYears.at[i, 'Away'] not in elo:\n",
    "        elo[AllYears.at[i, 'Away']]=[INITIAL_ELO, AllYears.at[i, 'Season']]"
   ],
   "metadata": {
    "collapsed": false,
    "pycharm": {
     "name": "#%%\n"
    }
   }
  },
  {
   "cell_type": "code",
   "execution_count": 1115,
   "outputs": [],
   "source": [
    "def get_regular_season(team_code):\n",
    "    home_games = AllYears[AllYears.Home==team_code][AllYears[AllYears.Home==team_code].Round=='Regular Season']\n",
    "    away_games = AllYears[AllYears.Away==team_code][AllYears[AllYears.Away==team_code].Round=='Regular Season']\n",
    "    return pd.concat([home_games, away_games]).sort_values(by=['Date'])"
   ],
   "metadata": {
    "collapsed": false,
    "pycharm": {
     "name": "#%%\n"
    }
   }
  },
  {
   "cell_type": "code",
   "execution_count": 1116,
   "outputs": [],
   "source": [
    "def get_overall_record(team_code):\n",
    "    df = get_regular_season(team_code)\n",
    "    wins = len(df[df.Winner==team_code])\n",
    "    draws = len(df[df.Winner=='Draw'])\n",
    "    losses = len(df) - wins - draws\n",
    "    return wins, draws, losses"
   ],
   "metadata": {
    "collapsed": false,
    "pycharm": {
     "name": "#%%\n"
    }
   }
  },
  {
   "cell_type": "code",
   "execution_count": 1117,
   "outputs": [],
   "source": [
    "def regress_elo(elo):\n",
    "    return int(round(elo - (elo - INITIAL_ELO)/3, 0))"
   ],
   "metadata": {
    "collapsed": false,
    "pycharm": {
     "name": "#%%\n"
    }
   }
  },
  {
   "cell_type": "code",
   "execution_count": 1118,
   "outputs": [],
   "source": [
    "for i in AllYears.index:\n",
    "    # Define some variables\n",
    "    season = AllYears.at[i, 'Season']\n",
    "    home_code = AllYears.at[i, 'Home']\n",
    "    home_score = AllYears.at[i, 'GHome']\n",
    "    away_code = AllYears.at[i, 'Away']\n",
    "    away_score = AllYears.at[i, 'GAway']\n",
    "\n",
    "    # Check for new Season\n",
    "    if season != elo[home_code][1]:\n",
    "        elo[home_code][0] = regress_elo(elo[home_code][0])\n",
    "        elo[home_code][1] = season\n",
    "    if season != elo[away_code][1]:\n",
    "        elo[home_code][0] = regress_elo(elo[home_code][0])\n",
    "        elo[home_code][1] = season\n",
    "\n",
    "    # Add current Elos to df\n",
    "    AllYears.at[i, 'HomeElo'] = elo[home_code][0]\n",
    "    AllYears.at[i, 'AwayElo'] = elo[away_code][0]\n",
    "    AllYears.at[i, 'EloDiff'] = elo[home_code][0] - elo[away_code][0]\n",
    "\n",
    "    # Update Elos\n",
    "    new_home_elo, new_away_elo = update_elo(elo[home_code][0], elo[away_code][0], home_score, away_score)\n",
    "    elo[home_code][0]= new_home_elo\n",
    "    elo[away_code][0]= new_away_elo"
   ],
   "metadata": {
    "collapsed": false,
    "pycharm": {
     "name": "#%%\n"
    }
   }
  },
  {
   "cell_type": "markdown",
   "source": [
    "## All-time Rolling Elos"
   ],
   "metadata": {
    "collapsed": false,
    "pycharm": {
     "name": "#%% md\n"
    }
   }
  },
  {
   "cell_type": "markdown",
   "source": [
    "Eventually, I will regress the teams to the mean towards the end of the season but for now, a rough this will represent a rough model to further work on some features. Mainly, creating a criteria in which the model will predict draws"
   ],
   "metadata": {
    "collapsed": false,
    "pycharm": {
     "name": "#%% md\n"
    }
   }
  },
  {
   "cell_type": "code",
   "execution_count": 1119,
   "outputs": [
    {
     "data": {
      "text/plain": "      Season           Round        Date Home  GHome  GAway  Away Winner  \\\n6848    1996  Regular Season  1996-04-06   SJ      1      0    DC     SJ   \n6849    1996  Regular Season  1996-04-13   LA      2      1  RBNY     LA   \n6850    1996  Regular Season  1996-04-13   TB      3      2    NE     TB   \n6851    1996  Regular Season  1996-04-13  SKC      3      0   COL    SKC   \n6852    1996  Regular Season  1996-04-13  CLB      4      0    DC    CLB   \n...      ...             ...         ...  ...    ...    ...   ...    ...   \n6844    2022  Regular Season  2022-02-27  ATL      3      1   SKC    ATL   \n6845    2022  Regular Season  2022-02-27  ORL      2      0   MTL    ORL   \n6847    2022  Regular Season  2022-02-27  SEA      0      1   NSH    NSH   \n6843    2022  Regular Season  2022-02-27  HOU      0      0   RSL   Draw   \n6846    2022  Regular Season  2022-02-27   LA      1      0   NYC     LA   \n\n      EloDiff  HomeElo  AwayElo  \n6848        0     1400     1400  \n6849        0     1400     1400  \n6850        0     1400     1400  \n6851        0     1400     1400  \n6852        7     1400     1393  \n...       ...      ...      ...  \n6844      -49     1406     1455  \n6845       23     1401     1378  \n6847      -56     1431     1487  \n6843      -42     1349     1391  \n6846     -100     1388     1488  \n\n[7025 rows x 11 columns]",
      "text/html": "<div>\n<style scoped>\n    .dataframe tbody tr th:only-of-type {\n        vertical-align: middle;\n    }\n\n    .dataframe tbody tr th {\n        vertical-align: top;\n    }\n\n    .dataframe thead th {\n        text-align: right;\n    }\n</style>\n<table border=\"1\" class=\"dataframe\">\n  <thead>\n    <tr style=\"text-align: right;\">\n      <th></th>\n      <th>Season</th>\n      <th>Round</th>\n      <th>Date</th>\n      <th>Home</th>\n      <th>GHome</th>\n      <th>GAway</th>\n      <th>Away</th>\n      <th>Winner</th>\n      <th>EloDiff</th>\n      <th>HomeElo</th>\n      <th>AwayElo</th>\n    </tr>\n  </thead>\n  <tbody>\n    <tr>\n      <th>6848</th>\n      <td>1996</td>\n      <td>Regular Season</td>\n      <td>1996-04-06</td>\n      <td>SJ</td>\n      <td>1</td>\n      <td>0</td>\n      <td>DC</td>\n      <td>SJ</td>\n      <td>0</td>\n      <td>1400</td>\n      <td>1400</td>\n    </tr>\n    <tr>\n      <th>6849</th>\n      <td>1996</td>\n      <td>Regular Season</td>\n      <td>1996-04-13</td>\n      <td>LA</td>\n      <td>2</td>\n      <td>1</td>\n      <td>RBNY</td>\n      <td>LA</td>\n      <td>0</td>\n      <td>1400</td>\n      <td>1400</td>\n    </tr>\n    <tr>\n      <th>6850</th>\n      <td>1996</td>\n      <td>Regular Season</td>\n      <td>1996-04-13</td>\n      <td>TB</td>\n      <td>3</td>\n      <td>2</td>\n      <td>NE</td>\n      <td>TB</td>\n      <td>0</td>\n      <td>1400</td>\n      <td>1400</td>\n    </tr>\n    <tr>\n      <th>6851</th>\n      <td>1996</td>\n      <td>Regular Season</td>\n      <td>1996-04-13</td>\n      <td>SKC</td>\n      <td>3</td>\n      <td>0</td>\n      <td>COL</td>\n      <td>SKC</td>\n      <td>0</td>\n      <td>1400</td>\n      <td>1400</td>\n    </tr>\n    <tr>\n      <th>6852</th>\n      <td>1996</td>\n      <td>Regular Season</td>\n      <td>1996-04-13</td>\n      <td>CLB</td>\n      <td>4</td>\n      <td>0</td>\n      <td>DC</td>\n      <td>CLB</td>\n      <td>7</td>\n      <td>1400</td>\n      <td>1393</td>\n    </tr>\n    <tr>\n      <th>...</th>\n      <td>...</td>\n      <td>...</td>\n      <td>...</td>\n      <td>...</td>\n      <td>...</td>\n      <td>...</td>\n      <td>...</td>\n      <td>...</td>\n      <td>...</td>\n      <td>...</td>\n      <td>...</td>\n    </tr>\n    <tr>\n      <th>6844</th>\n      <td>2022</td>\n      <td>Regular Season</td>\n      <td>2022-02-27</td>\n      <td>ATL</td>\n      <td>3</td>\n      <td>1</td>\n      <td>SKC</td>\n      <td>ATL</td>\n      <td>-49</td>\n      <td>1406</td>\n      <td>1455</td>\n    </tr>\n    <tr>\n      <th>6845</th>\n      <td>2022</td>\n      <td>Regular Season</td>\n      <td>2022-02-27</td>\n      <td>ORL</td>\n      <td>2</td>\n      <td>0</td>\n      <td>MTL</td>\n      <td>ORL</td>\n      <td>23</td>\n      <td>1401</td>\n      <td>1378</td>\n    </tr>\n    <tr>\n      <th>6847</th>\n      <td>2022</td>\n      <td>Regular Season</td>\n      <td>2022-02-27</td>\n      <td>SEA</td>\n      <td>0</td>\n      <td>1</td>\n      <td>NSH</td>\n      <td>NSH</td>\n      <td>-56</td>\n      <td>1431</td>\n      <td>1487</td>\n    </tr>\n    <tr>\n      <th>6843</th>\n      <td>2022</td>\n      <td>Regular Season</td>\n      <td>2022-02-27</td>\n      <td>HOU</td>\n      <td>0</td>\n      <td>0</td>\n      <td>RSL</td>\n      <td>Draw</td>\n      <td>-42</td>\n      <td>1349</td>\n      <td>1391</td>\n    </tr>\n    <tr>\n      <th>6846</th>\n      <td>2022</td>\n      <td>Regular Season</td>\n      <td>2022-02-27</td>\n      <td>LA</td>\n      <td>1</td>\n      <td>0</td>\n      <td>NYC</td>\n      <td>LA</td>\n      <td>-100</td>\n      <td>1388</td>\n      <td>1488</td>\n    </tr>\n  </tbody>\n</table>\n<p>7025 rows × 11 columns</p>\n</div>"
     },
     "execution_count": 1119,
     "metadata": {},
     "output_type": "execute_result"
    }
   ],
   "source": [
    "AllYears.HomeElo = AllYears.HomeElo.astype('int64')\n",
    "AllYears.AwayElo = AllYears.AwayElo.astype('int64')\n",
    "AllYears.EloDiff = AllYears.EloDiff.astype('int64')\n",
    "AllYears"
   ],
   "metadata": {
    "collapsed": false,
    "pycharm": {
     "name": "#%%\n"
    }
   }
  },
  {
   "cell_type": "code",
   "execution_count": 1120,
   "outputs": [
    {
     "data": {
      "text/plain": "0.246286535697173"
     },
     "execution_count": 1120,
     "metadata": {},
     "output_type": "execute_result"
    }
   ],
   "source": [
    "# Draw %\n",
    "PostDraws = AllYears[AllYears.Season>=2000]\n",
    "Draws = PostDraws[PostDraws.Winner=='Draw']\n",
    "len(Draws) / len(PostDraws)"
   ],
   "metadata": {
    "collapsed": false,
    "pycharm": {
     "name": "#%%\n"
    }
   }
  },
  {
   "cell_type": "code",
   "execution_count": 1121,
   "outputs": [
    {
     "data": {
      "text/plain": "0.5067880530266731"
     },
     "execution_count": 1121,
     "metadata": {},
     "output_type": "execute_result"
    }
   ],
   "source": [
    "# Home Team Win%\n",
    "len(PostDraws[PostDraws.Home==PostDraws.Winner]) / len(PostDraws)"
   ],
   "metadata": {
    "collapsed": false,
    "pycharm": {
     "name": "#%%\n"
    }
   }
  },
  {
   "cell_type": "code",
   "execution_count": 1122,
   "outputs": [
    {
     "data": {
      "text/plain": "0.24692541127615397"
     },
     "execution_count": 1122,
     "metadata": {},
     "output_type": "execute_result"
    }
   ],
   "source": [
    "# Home Team Loss%\n",
    "len(PostDraws[PostDraws.Away==PostDraws.Winner]) / len(PostDraws)"
   ],
   "metadata": {
    "collapsed": false,
    "pycharm": {
     "name": "#%%\n"
    }
   }
  },
  {
   "cell_type": "code",
   "execution_count": 1123,
   "outputs": [
    {
     "data": {
      "text/plain": "      Season           Round        Date  Home  GHome  GAway Away Winner  \\\n173     1998  Regular Season  1998-03-15  MIAF      0      2   DC     DC   \n175     1998  Regular Season  1998-03-21    DC      3      2  SKC     DC   \n177     1998  Regular Season  1998-03-21  MIAF      0      2  CHI    CHI   \n174     1998  Regular Season  1998-03-21    LA      3      3   SJ     LA   \n176     1998  Regular Season  1998-03-21   DAL      1      1  COL    DAL   \n...      ...             ...         ...   ...    ...    ...  ...    ...   \n6844    2022  Regular Season  2022-02-27   ATL      3      1  SKC    ATL   \n6845    2022  Regular Season  2022-02-27   ORL      2      0  MTL    ORL   \n6847    2022  Regular Season  2022-02-27   SEA      0      1  NSH    NSH   \n6843    2022  Regular Season  2022-02-27   HOU      0      0  RSL   Draw   \n6846    2022  Regular Season  2022-02-27    LA      1      0  NYC     LA   \n\n      EloDiff  HomeElo  AwayElo  Prediction  \n173       -93     1400     1493         NaN  \n175        59     1448     1389         NaN  \n177       -15     1385     1400         NaN  \n174        66     1418     1352         NaN  \n176        -2     1399     1401         NaN  \n...       ...      ...      ...         ...  \n6844      -49     1406     1455         NaN  \n6845       23     1401     1378         NaN  \n6847      -56     1431     1487         NaN  \n6843      -42     1349     1391         NaN  \n6846     -100     1388     1488         NaN  \n\n[6675 rows x 12 columns]",
      "text/html": "<div>\n<style scoped>\n    .dataframe tbody tr th:only-of-type {\n        vertical-align: middle;\n    }\n\n    .dataframe tbody tr th {\n        vertical-align: top;\n    }\n\n    .dataframe thead th {\n        text-align: right;\n    }\n</style>\n<table border=\"1\" class=\"dataframe\">\n  <thead>\n    <tr style=\"text-align: right;\">\n      <th></th>\n      <th>Season</th>\n      <th>Round</th>\n      <th>Date</th>\n      <th>Home</th>\n      <th>GHome</th>\n      <th>GAway</th>\n      <th>Away</th>\n      <th>Winner</th>\n      <th>EloDiff</th>\n      <th>HomeElo</th>\n      <th>AwayElo</th>\n      <th>Prediction</th>\n    </tr>\n  </thead>\n  <tbody>\n    <tr>\n      <th>173</th>\n      <td>1998</td>\n      <td>Regular Season</td>\n      <td>1998-03-15</td>\n      <td>MIAF</td>\n      <td>0</td>\n      <td>2</td>\n      <td>DC</td>\n      <td>DC</td>\n      <td>-93</td>\n      <td>1400</td>\n      <td>1493</td>\n      <td>NaN</td>\n    </tr>\n    <tr>\n      <th>175</th>\n      <td>1998</td>\n      <td>Regular Season</td>\n      <td>1998-03-21</td>\n      <td>DC</td>\n      <td>3</td>\n      <td>2</td>\n      <td>SKC</td>\n      <td>DC</td>\n      <td>59</td>\n      <td>1448</td>\n      <td>1389</td>\n      <td>NaN</td>\n    </tr>\n    <tr>\n      <th>177</th>\n      <td>1998</td>\n      <td>Regular Season</td>\n      <td>1998-03-21</td>\n      <td>MIAF</td>\n      <td>0</td>\n      <td>2</td>\n      <td>CHI</td>\n      <td>CHI</td>\n      <td>-15</td>\n      <td>1385</td>\n      <td>1400</td>\n      <td>NaN</td>\n    </tr>\n    <tr>\n      <th>174</th>\n      <td>1998</td>\n      <td>Regular Season</td>\n      <td>1998-03-21</td>\n      <td>LA</td>\n      <td>3</td>\n      <td>3</td>\n      <td>SJ</td>\n      <td>LA</td>\n      <td>66</td>\n      <td>1418</td>\n      <td>1352</td>\n      <td>NaN</td>\n    </tr>\n    <tr>\n      <th>176</th>\n      <td>1998</td>\n      <td>Regular Season</td>\n      <td>1998-03-21</td>\n      <td>DAL</td>\n      <td>1</td>\n      <td>1</td>\n      <td>COL</td>\n      <td>DAL</td>\n      <td>-2</td>\n      <td>1399</td>\n      <td>1401</td>\n      <td>NaN</td>\n    </tr>\n    <tr>\n      <th>...</th>\n      <td>...</td>\n      <td>...</td>\n      <td>...</td>\n      <td>...</td>\n      <td>...</td>\n      <td>...</td>\n      <td>...</td>\n      <td>...</td>\n      <td>...</td>\n      <td>...</td>\n      <td>...</td>\n      <td>...</td>\n    </tr>\n    <tr>\n      <th>6844</th>\n      <td>2022</td>\n      <td>Regular Season</td>\n      <td>2022-02-27</td>\n      <td>ATL</td>\n      <td>3</td>\n      <td>1</td>\n      <td>SKC</td>\n      <td>ATL</td>\n      <td>-49</td>\n      <td>1406</td>\n      <td>1455</td>\n      <td>NaN</td>\n    </tr>\n    <tr>\n      <th>6845</th>\n      <td>2022</td>\n      <td>Regular Season</td>\n      <td>2022-02-27</td>\n      <td>ORL</td>\n      <td>2</td>\n      <td>0</td>\n      <td>MTL</td>\n      <td>ORL</td>\n      <td>23</td>\n      <td>1401</td>\n      <td>1378</td>\n      <td>NaN</td>\n    </tr>\n    <tr>\n      <th>6847</th>\n      <td>2022</td>\n      <td>Regular Season</td>\n      <td>2022-02-27</td>\n      <td>SEA</td>\n      <td>0</td>\n      <td>1</td>\n      <td>NSH</td>\n      <td>NSH</td>\n      <td>-56</td>\n      <td>1431</td>\n      <td>1487</td>\n      <td>NaN</td>\n    </tr>\n    <tr>\n      <th>6843</th>\n      <td>2022</td>\n      <td>Regular Season</td>\n      <td>2022-02-27</td>\n      <td>HOU</td>\n      <td>0</td>\n      <td>0</td>\n      <td>RSL</td>\n      <td>Draw</td>\n      <td>-42</td>\n      <td>1349</td>\n      <td>1391</td>\n      <td>NaN</td>\n    </tr>\n    <tr>\n      <th>6846</th>\n      <td>2022</td>\n      <td>Regular Season</td>\n      <td>2022-02-27</td>\n      <td>LA</td>\n      <td>1</td>\n      <td>0</td>\n      <td>NYC</td>\n      <td>LA</td>\n      <td>-100</td>\n      <td>1388</td>\n      <td>1488</td>\n      <td>NaN</td>\n    </tr>\n  </tbody>\n</table>\n<p>6675 rows × 12 columns</p>\n</div>"
     },
     "execution_count": 1123,
     "metadata": {},
     "output_type": "execute_result"
    }
   ],
   "source": [
    "Predictions = AllYears[AllYears.Season >= 1998].copy(deep=True)\n",
    "Predictions['Prediction']=np.nan\n",
    "Predictions"
   ],
   "metadata": {
    "collapsed": false,
    "pycharm": {
     "name": "#%%\n"
    }
   }
  },
  {
   "cell_type": "code",
   "execution_count": 1124,
   "outputs": [],
   "source": [
    "for i in Predictions.index:\n",
    "    if Predictions.at[i, 'HomeElo'] >= Predictions.at[i, 'AwayElo']:\n",
    "        Predictions.at[i, 'Prediction'] = Predictions.at[i, 'Home']\n",
    "    else:\n",
    "        Predictions.at[i, 'Prediction'] = Predictions.at[i, 'Away']"
   ],
   "metadata": {
    "collapsed": false,
    "pycharm": {
     "name": "#%%\n"
    }
   }
  },
  {
   "cell_type": "code",
   "execution_count": 1125,
   "outputs": [
    {
     "data": {
      "text/plain": "      Season           Round        Date  Home  GHome  GAway Away Winner  \\\n173     1998  Regular Season  1998-03-15  MIAF      0      2   DC     DC   \n175     1998  Regular Season  1998-03-21    DC      3      2  SKC     DC   \n177     1998  Regular Season  1998-03-21  MIAF      0      2  CHI    CHI   \n174     1998  Regular Season  1998-03-21    LA      3      3   SJ     LA   \n176     1998  Regular Season  1998-03-21   DAL      1      1  COL    DAL   \n...      ...             ...         ...   ...    ...    ...  ...    ...   \n6834    2022  Regular Season  2022-02-26  LAFC      3      0  COL   LAFC   \n6844    2022  Regular Season  2022-02-27   ATL      3      1  SKC    ATL   \n6845    2022  Regular Season  2022-02-27   ORL      2      0  MTL    ORL   \n6847    2022  Regular Season  2022-02-27   SEA      0      1  NSH    NSH   \n6846    2022  Regular Season  2022-02-27    LA      1      0  NYC     LA   \n\n      EloDiff  HomeElo  AwayElo Prediction  \n173       -93     1400     1493         DC  \n175        59     1448     1389         DC  \n177       -15     1385     1400        CHI  \n174        66     1418     1352         LA  \n176        -2     1399     1401        COL  \n...       ...      ...      ...        ...  \n6834      -64     1407     1471        COL  \n6844      -49     1406     1455        SKC  \n6845       23     1401     1378        ORL  \n6847      -56     1431     1487        NSH  \n6846     -100     1388     1488        NYC  \n\n[5133 rows x 12 columns]",
      "text/html": "<div>\n<style scoped>\n    .dataframe tbody tr th:only-of-type {\n        vertical-align: middle;\n    }\n\n    .dataframe tbody tr th {\n        vertical-align: top;\n    }\n\n    .dataframe thead th {\n        text-align: right;\n    }\n</style>\n<table border=\"1\" class=\"dataframe\">\n  <thead>\n    <tr style=\"text-align: right;\">\n      <th></th>\n      <th>Season</th>\n      <th>Round</th>\n      <th>Date</th>\n      <th>Home</th>\n      <th>GHome</th>\n      <th>GAway</th>\n      <th>Away</th>\n      <th>Winner</th>\n      <th>EloDiff</th>\n      <th>HomeElo</th>\n      <th>AwayElo</th>\n      <th>Prediction</th>\n    </tr>\n  </thead>\n  <tbody>\n    <tr>\n      <th>173</th>\n      <td>1998</td>\n      <td>Regular Season</td>\n      <td>1998-03-15</td>\n      <td>MIAF</td>\n      <td>0</td>\n      <td>2</td>\n      <td>DC</td>\n      <td>DC</td>\n      <td>-93</td>\n      <td>1400</td>\n      <td>1493</td>\n      <td>DC</td>\n    </tr>\n    <tr>\n      <th>175</th>\n      <td>1998</td>\n      <td>Regular Season</td>\n      <td>1998-03-21</td>\n      <td>DC</td>\n      <td>3</td>\n      <td>2</td>\n      <td>SKC</td>\n      <td>DC</td>\n      <td>59</td>\n      <td>1448</td>\n      <td>1389</td>\n      <td>DC</td>\n    </tr>\n    <tr>\n      <th>177</th>\n      <td>1998</td>\n      <td>Regular Season</td>\n      <td>1998-03-21</td>\n      <td>MIAF</td>\n      <td>0</td>\n      <td>2</td>\n      <td>CHI</td>\n      <td>CHI</td>\n      <td>-15</td>\n      <td>1385</td>\n      <td>1400</td>\n      <td>CHI</td>\n    </tr>\n    <tr>\n      <th>174</th>\n      <td>1998</td>\n      <td>Regular Season</td>\n      <td>1998-03-21</td>\n      <td>LA</td>\n      <td>3</td>\n      <td>3</td>\n      <td>SJ</td>\n      <td>LA</td>\n      <td>66</td>\n      <td>1418</td>\n      <td>1352</td>\n      <td>LA</td>\n    </tr>\n    <tr>\n      <th>176</th>\n      <td>1998</td>\n      <td>Regular Season</td>\n      <td>1998-03-21</td>\n      <td>DAL</td>\n      <td>1</td>\n      <td>1</td>\n      <td>COL</td>\n      <td>DAL</td>\n      <td>-2</td>\n      <td>1399</td>\n      <td>1401</td>\n      <td>COL</td>\n    </tr>\n    <tr>\n      <th>...</th>\n      <td>...</td>\n      <td>...</td>\n      <td>...</td>\n      <td>...</td>\n      <td>...</td>\n      <td>...</td>\n      <td>...</td>\n      <td>...</td>\n      <td>...</td>\n      <td>...</td>\n      <td>...</td>\n      <td>...</td>\n    </tr>\n    <tr>\n      <th>6834</th>\n      <td>2022</td>\n      <td>Regular Season</td>\n      <td>2022-02-26</td>\n      <td>LAFC</td>\n      <td>3</td>\n      <td>0</td>\n      <td>COL</td>\n      <td>LAFC</td>\n      <td>-64</td>\n      <td>1407</td>\n      <td>1471</td>\n      <td>COL</td>\n    </tr>\n    <tr>\n      <th>6844</th>\n      <td>2022</td>\n      <td>Regular Season</td>\n      <td>2022-02-27</td>\n      <td>ATL</td>\n      <td>3</td>\n      <td>1</td>\n      <td>SKC</td>\n      <td>ATL</td>\n      <td>-49</td>\n      <td>1406</td>\n      <td>1455</td>\n      <td>SKC</td>\n    </tr>\n    <tr>\n      <th>6845</th>\n      <td>2022</td>\n      <td>Regular Season</td>\n      <td>2022-02-27</td>\n      <td>ORL</td>\n      <td>2</td>\n      <td>0</td>\n      <td>MTL</td>\n      <td>ORL</td>\n      <td>23</td>\n      <td>1401</td>\n      <td>1378</td>\n      <td>ORL</td>\n    </tr>\n    <tr>\n      <th>6847</th>\n      <td>2022</td>\n      <td>Regular Season</td>\n      <td>2022-02-27</td>\n      <td>SEA</td>\n      <td>0</td>\n      <td>1</td>\n      <td>NSH</td>\n      <td>NSH</td>\n      <td>-56</td>\n      <td>1431</td>\n      <td>1487</td>\n      <td>NSH</td>\n    </tr>\n    <tr>\n      <th>6846</th>\n      <td>2022</td>\n      <td>Regular Season</td>\n      <td>2022-02-27</td>\n      <td>LA</td>\n      <td>1</td>\n      <td>0</td>\n      <td>NYC</td>\n      <td>LA</td>\n      <td>-100</td>\n      <td>1388</td>\n      <td>1488</td>\n      <td>NYC</td>\n    </tr>\n  </tbody>\n</table>\n<p>5133 rows × 12 columns</p>\n</div>"
     },
     "execution_count": 1125,
     "metadata": {},
     "output_type": "execute_result"
    }
   ],
   "source": [
    "NonDraws =  Predictions[Predictions.Winner != 'Draw']\n",
    "NonDraws"
   ],
   "metadata": {
    "collapsed": false,
    "pycharm": {
     "name": "#%%\n"
    }
   }
  },
  {
   "cell_type": "markdown",
   "source": [
    "## Model Accuracy"
   ],
   "metadata": {
    "collapsed": false,
    "pycharm": {
     "name": "#%% md\n"
    }
   }
  },
  {
   "cell_type": "code",
   "execution_count": 1126,
   "outputs": [
    {
     "name": "stdout",
     "output_type": "stream",
     "text": [
      "57.53%\n"
     ]
    }
   ],
   "source": [
    "print(f'{round(len(NonDraws[NonDraws.Winner==NonDraws.Prediction])/len(NonDraws) * 100, 2)}%')"
   ],
   "metadata": {
    "collapsed": false,
    "pycharm": {
     "name": "#%%\n"
    }
   }
  },
  {
   "cell_type": "markdown",
   "source": [
    "This shows the model is somewhat effective. The Elo model is currently not accounting for rest time or distance travelled."
   ],
   "metadata": {
    "collapsed": false,
    "pycharm": {
     "name": "#%% md\n"
    }
   }
  },
  {
   "cell_type": "markdown",
   "source": [
    "## Making Prediction"
   ],
   "metadata": {
    "collapsed": false,
    "pycharm": {
     "name": "#%% md\n"
    }
   }
  },
  {
   "cell_type": "code",
   "execution_count": 1127,
   "outputs": [],
   "source": [
    "def money_line(win_odds):\n",
    "    if win_odds >= .5:\n",
    "        return int(round((100 * win_odds) / (win_odds - 1), 0))\n",
    "    else:\n",
    "        return int(round(-(100 * (win_odds - 1)) / win_odds, 0))"
   ],
   "metadata": {
    "collapsed": false,
    "pycharm": {
     "name": "#%%\n"
    }
   }
  },
  {
   "cell_type": "code",
   "execution_count": 1128,
   "outputs": [],
   "source": [
    "def get_odds(home_code, away_code):\n",
    "    home_win_odds = win_chance(elo[home_code][0], elo[away_code][0])\n",
    "    away_win_odds = 1 - home_win_odds\n",
    "    return money_line(home_win_odds), money_line(away_win_odds)"
   ],
   "metadata": {
    "collapsed": false,
    "pycharm": {
     "name": "#%%\n"
    }
   }
  },
  {
   "cell_type": "code",
   "execution_count": 1129,
   "outputs": [],
   "source": [
    "def profit(line, amount_wagered):\n",
    "    if line > 0:\n",
    "        return round(amount_wagered * line/100, 2)\n",
    "    if line < 0:\n",
    "        return round(-1 * amount_wagered * 100/line, 2)"
   ],
   "metadata": {
    "collapsed": false,
    "pycharm": {
     "name": "#%%\n"
    }
   }
  },
  {
   "cell_type": "code",
   "execution_count": 1130,
   "outputs": [
    {
     "data": {
      "text/plain": "(-172, 172)"
     },
     "execution_count": 1130,
     "metadata": {},
     "output_type": "execute_result"
    }
   ],
   "source": [
    "get_odds('SKC', 'HOU')"
   ],
   "metadata": {
    "collapsed": false,
    "pycharm": {
     "name": "#%%\n"
    }
   }
  },
  {
   "cell_type": "code",
   "execution_count": 1131,
   "outputs": [
    {
     "data": {
      "text/plain": "19.05"
     },
     "execution_count": 1131,
     "metadata": {},
     "output_type": "execute_result"
    }
   ],
   "source": [
    "profit(-525, 100)"
   ],
   "metadata": {
    "collapsed": false,
    "pycharm": {
     "name": "#%%\n"
    }
   }
  },
  {
   "cell_type": "code",
   "execution_count": 1132,
   "outputs": [
    {
     "data": {
      "text/plain": "95.24"
     },
     "execution_count": 1132,
     "metadata": {},
     "output_type": "execute_result"
    }
   ],
   "source": [
    "profit(-105, 100)"
   ],
   "metadata": {
    "collapsed": false,
    "pycharm": {
     "name": "#%%\n"
    }
   }
  },
  {
   "cell_type": "markdown",
   "source": [
    "Like traditional American betting lines, negative odds indicate the favorite. A negative amount represents how much you have to bet to win $100 (i.e.  a $100 bet on a -525 line returns $19.05 + $100). A positive line means the team is not the favorite and the line represents the amount of profit on a $100 bet (i.e. a $100 bet on a +200 line returns $200 + $100)."
   ],
   "metadata": {
    "collapsed": false
   }
  },
  {
   "cell_type": "code",
   "execution_count": 1133,
   "outputs": [],
   "source": [
    "Schedule.dropna(inplace=True)\n",
    "Schedule['ModelHome'] = np.nan\n",
    "Schedule['ModelAway'] = np.nan\n",
    "Schedule['HomeDiff'] = np.nan\n",
    "Schedule['AwayDiff'] = np.nan"
   ],
   "metadata": {
    "collapsed": false,
    "pycharm": {
     "name": "#%%\n"
    }
   }
  },
  {
   "cell_type": "code",
   "execution_count": 1134,
   "outputs": [],
   "source": [
    "for i in Schedule.index:\n",
    "    Schedule.at[i, 'Home'] = teams[Schedule.at[i, 'Home']][0]\n",
    "    Schedule.at[i, 'Away'] = teams[Schedule.at[i, 'Away']][0]\n",
    "    Schedule.at[i, 'ModelHome'], Schedule.at[i, 'ModelAway'] = get_odds(Schedule.at[i, 'Home'], Schedule.at[i, 'Away'])\n",
    "    Schedule.at[i, 'HomeDiff'] = Schedule.at[i, 'DraftKingsHome'] - Schedule.at[i, 'ModelHome']\n",
    "    Schedule.at[i, 'AwayDiff'] = Schedule.at[i, 'DraftKingsAway'] - Schedule.at[i, 'ModelAway']"
   ],
   "metadata": {
    "collapsed": false,
    "pycharm": {
     "name": "#%%\n"
    }
   }
  },
  {
   "cell_type": "code",
   "execution_count": 1135,
   "outputs": [
    {
     "data": {
      "text/plain": "    Day        Date  Home  DraftKingsHome  ModelHome  Away  DraftKingsAway  \\\n0   Sat  2022-03-05    NE          -525.0     -250.0   DAL           370.0   \n1   Sat  2022-03-05   TOR          -120.0      225.0  RBNY          -105.0   \n2   Sat  2022-03-05   SKC          -260.0     -172.0   HOU           205.0   \n3   Sat  2022-03-05   MTL          -135.0      139.0   PHI           110.0   \n4   Sat  2022-03-05    SJ          -110.0      137.0   CLB          -110.0   \n5   Sat  2022-03-05   VAN           165.0      156.0   NYC          -210.0   \n6   Sat  2022-03-05   RSL           100.0      117.0   SEA          -120.0   \n7   Sat  2022-03-05   COL          -195.0     -123.0   ATL           155.0   \n8   Sat  2022-03-05   CHI          -295.0      153.0   ORL           225.0   \n9   Sat  2022-03-05   MIN          -145.0      154.0   NSH           115.0   \n10  Sat  2022-03-05   CIN           145.0      347.0    DC          -185.0   \n11  Sat  2022-03-05   CLT           110.0      107.0    LA          -135.0   \n12  Sun  2022-03-06   ATX          -450.0      101.0   MIA           330.0   \n13  Sun  2022-03-06  LAFC          -425.0      110.0   POR           300.0   \n\n    ModelAway  HomeDiff  AwayDiff  \n0       250.0    -275.0     120.0  \n1      -225.0    -345.0     120.0  \n2       172.0     -88.0      33.0  \n3      -139.0    -274.0     249.0  \n4      -137.0    -247.0      27.0  \n5      -156.0       9.0     -54.0  \n6      -117.0     -17.0      -3.0  \n7       123.0     -72.0      32.0  \n8      -153.0    -448.0     378.0  \n9      -154.0    -299.0     269.0  \n10     -347.0    -202.0     162.0  \n11     -107.0       3.0     -28.0  \n12     -101.0    -551.0     431.0  \n13     -110.0    -535.0     410.0  ",
      "text/html": "<div>\n<style scoped>\n    .dataframe tbody tr th:only-of-type {\n        vertical-align: middle;\n    }\n\n    .dataframe tbody tr th {\n        vertical-align: top;\n    }\n\n    .dataframe thead th {\n        text-align: right;\n    }\n</style>\n<table border=\"1\" class=\"dataframe\">\n  <thead>\n    <tr style=\"text-align: right;\">\n      <th></th>\n      <th>Day</th>\n      <th>Date</th>\n      <th>Home</th>\n      <th>DraftKingsHome</th>\n      <th>ModelHome</th>\n      <th>Away</th>\n      <th>DraftKingsAway</th>\n      <th>ModelAway</th>\n      <th>HomeDiff</th>\n      <th>AwayDiff</th>\n    </tr>\n  </thead>\n  <tbody>\n    <tr>\n      <th>0</th>\n      <td>Sat</td>\n      <td>2022-03-05</td>\n      <td>NE</td>\n      <td>-525.0</td>\n      <td>-250.0</td>\n      <td>DAL</td>\n      <td>370.0</td>\n      <td>250.0</td>\n      <td>-275.0</td>\n      <td>120.0</td>\n    </tr>\n    <tr>\n      <th>1</th>\n      <td>Sat</td>\n      <td>2022-03-05</td>\n      <td>TOR</td>\n      <td>-120.0</td>\n      <td>225.0</td>\n      <td>RBNY</td>\n      <td>-105.0</td>\n      <td>-225.0</td>\n      <td>-345.0</td>\n      <td>120.0</td>\n    </tr>\n    <tr>\n      <th>2</th>\n      <td>Sat</td>\n      <td>2022-03-05</td>\n      <td>SKC</td>\n      <td>-260.0</td>\n      <td>-172.0</td>\n      <td>HOU</td>\n      <td>205.0</td>\n      <td>172.0</td>\n      <td>-88.0</td>\n      <td>33.0</td>\n    </tr>\n    <tr>\n      <th>3</th>\n      <td>Sat</td>\n      <td>2022-03-05</td>\n      <td>MTL</td>\n      <td>-135.0</td>\n      <td>139.0</td>\n      <td>PHI</td>\n      <td>110.0</td>\n      <td>-139.0</td>\n      <td>-274.0</td>\n      <td>249.0</td>\n    </tr>\n    <tr>\n      <th>4</th>\n      <td>Sat</td>\n      <td>2022-03-05</td>\n      <td>SJ</td>\n      <td>-110.0</td>\n      <td>137.0</td>\n      <td>CLB</td>\n      <td>-110.0</td>\n      <td>-137.0</td>\n      <td>-247.0</td>\n      <td>27.0</td>\n    </tr>\n    <tr>\n      <th>5</th>\n      <td>Sat</td>\n      <td>2022-03-05</td>\n      <td>VAN</td>\n      <td>165.0</td>\n      <td>156.0</td>\n      <td>NYC</td>\n      <td>-210.0</td>\n      <td>-156.0</td>\n      <td>9.0</td>\n      <td>-54.0</td>\n    </tr>\n    <tr>\n      <th>6</th>\n      <td>Sat</td>\n      <td>2022-03-05</td>\n      <td>RSL</td>\n      <td>100.0</td>\n      <td>117.0</td>\n      <td>SEA</td>\n      <td>-120.0</td>\n      <td>-117.0</td>\n      <td>-17.0</td>\n      <td>-3.0</td>\n    </tr>\n    <tr>\n      <th>7</th>\n      <td>Sat</td>\n      <td>2022-03-05</td>\n      <td>COL</td>\n      <td>-195.0</td>\n      <td>-123.0</td>\n      <td>ATL</td>\n      <td>155.0</td>\n      <td>123.0</td>\n      <td>-72.0</td>\n      <td>32.0</td>\n    </tr>\n    <tr>\n      <th>8</th>\n      <td>Sat</td>\n      <td>2022-03-05</td>\n      <td>CHI</td>\n      <td>-295.0</td>\n      <td>153.0</td>\n      <td>ORL</td>\n      <td>225.0</td>\n      <td>-153.0</td>\n      <td>-448.0</td>\n      <td>378.0</td>\n    </tr>\n    <tr>\n      <th>9</th>\n      <td>Sat</td>\n      <td>2022-03-05</td>\n      <td>MIN</td>\n      <td>-145.0</td>\n      <td>154.0</td>\n      <td>NSH</td>\n      <td>115.0</td>\n      <td>-154.0</td>\n      <td>-299.0</td>\n      <td>269.0</td>\n    </tr>\n    <tr>\n      <th>10</th>\n      <td>Sat</td>\n      <td>2022-03-05</td>\n      <td>CIN</td>\n      <td>145.0</td>\n      <td>347.0</td>\n      <td>DC</td>\n      <td>-185.0</td>\n      <td>-347.0</td>\n      <td>-202.0</td>\n      <td>162.0</td>\n    </tr>\n    <tr>\n      <th>11</th>\n      <td>Sat</td>\n      <td>2022-03-05</td>\n      <td>CLT</td>\n      <td>110.0</td>\n      <td>107.0</td>\n      <td>LA</td>\n      <td>-135.0</td>\n      <td>-107.0</td>\n      <td>3.0</td>\n      <td>-28.0</td>\n    </tr>\n    <tr>\n      <th>12</th>\n      <td>Sun</td>\n      <td>2022-03-06</td>\n      <td>ATX</td>\n      <td>-450.0</td>\n      <td>101.0</td>\n      <td>MIA</td>\n      <td>330.0</td>\n      <td>-101.0</td>\n      <td>-551.0</td>\n      <td>431.0</td>\n    </tr>\n    <tr>\n      <th>13</th>\n      <td>Sun</td>\n      <td>2022-03-06</td>\n      <td>LAFC</td>\n      <td>-425.0</td>\n      <td>110.0</td>\n      <td>POR</td>\n      <td>300.0</td>\n      <td>-110.0</td>\n      <td>-535.0</td>\n      <td>410.0</td>\n    </tr>\n  </tbody>\n</table>\n</div>"
     },
     "execution_count": 1135,
     "metadata": {},
     "output_type": "execute_result"
    }
   ],
   "source": [
    "columns = ['Day', 'Date', 'Home', 'DraftKingsHome', 'ModelHome', 'Away', 'DraftKingsAway', 'ModelAway', 'HomeDiff', 'AwayDiff']\n",
    "Schedule = Schedule[columns]\n",
    "Schedule"
   ],
   "metadata": {
    "collapsed": false,
    "pycharm": {
     "name": "#%%\n"
    }
   }
  },
  {
   "cell_type": "markdown",
   "source": [],
   "metadata": {
    "collapsed": false
   }
  },
  {
   "cell_type": "markdown",
   "source": [
    "Looking at my model's predictions vs. Draft Kings a few games standout as obvious differences. Austin vs. Miami has Austin heavy favorites after the beat Cincinnati 5-0. Both are below average teams but CIN is especially bad. I think Miami is a solid bet here. LAFC are also heavy favorites over Portland because of their 3-0 win over Colorado while my model sees the team as mostly even. Last is CHI over ORL, I'm honestly not sure why."
   ],
   "metadata": {
    "collapsed": false,
    "pycharm": {
     "name": "#%% md\n"
    }
   }
  },
  {
   "cell_type": "markdown",
   "source": [
    "## Placing Bets"
   ],
   "metadata": {
    "collapsed": false,
    "pycharm": {
     "name": "#%% md\n"
    }
   }
  },
  {
   "cell_type": "markdown",
   "source": [
    "I'm going to go with the premise that I have $100 a week to bet on MLS game and I'm going to track how much money I make/lose over the course of a season."
   ],
   "metadata": {
    "collapsed": false,
    "pycharm": {
     "name": "#%% md\n"
    }
   }
  },
  {
   "cell_type": "code",
   "execution_count": 1136,
   "outputs": [],
   "source": [
    "games = [8, 12]\n",
    "wager_amounts = [25, 75]\n",
    "wager_teams = ['ORL', 'MIA']"
   ],
   "metadata": {
    "collapsed": false,
    "pycharm": {
     "name": "#%%\n"
    }
   }
  },
  {
   "cell_type": "code",
   "execution_count": 1137,
   "outputs": [],
   "source": [
    "Bets = Schedule.iloc[games].copy(deep=True)\n",
    "Bets['Wagers'] = wager_amounts\n",
    "Bets['BetTeam'] = wager_teams"
   ],
   "metadata": {
    "collapsed": false,
    "pycharm": {
     "name": "#%%\n"
    }
   }
  },
  {
   "cell_type": "code",
   "execution_count": 1138,
   "outputs": [
    {
     "data": {
      "text/plain": "    Day        Date Home  DraftKingsHome  ModelHome Away  DraftKingsAway  \\\n8   Sat  2022-03-05  CHI          -295.0      153.0  ORL           225.0   \n12  Sun  2022-03-06  ATX          -450.0      101.0  MIA           330.0   \n\n    ModelAway  HomeDiff  AwayDiff  Wagers BetTeam  \n8      -153.0    -448.0     378.0      25     ORL  \n12     -101.0    -551.0     431.0      75     MIA  ",
      "text/html": "<div>\n<style scoped>\n    .dataframe tbody tr th:only-of-type {\n        vertical-align: middle;\n    }\n\n    .dataframe tbody tr th {\n        vertical-align: top;\n    }\n\n    .dataframe thead th {\n        text-align: right;\n    }\n</style>\n<table border=\"1\" class=\"dataframe\">\n  <thead>\n    <tr style=\"text-align: right;\">\n      <th></th>\n      <th>Day</th>\n      <th>Date</th>\n      <th>Home</th>\n      <th>DraftKingsHome</th>\n      <th>ModelHome</th>\n      <th>Away</th>\n      <th>DraftKingsAway</th>\n      <th>ModelAway</th>\n      <th>HomeDiff</th>\n      <th>AwayDiff</th>\n      <th>Wagers</th>\n      <th>BetTeam</th>\n    </tr>\n  </thead>\n  <tbody>\n    <tr>\n      <th>8</th>\n      <td>Sat</td>\n      <td>2022-03-05</td>\n      <td>CHI</td>\n      <td>-295.0</td>\n      <td>153.0</td>\n      <td>ORL</td>\n      <td>225.0</td>\n      <td>-153.0</td>\n      <td>-448.0</td>\n      <td>378.0</td>\n      <td>25</td>\n      <td>ORL</td>\n    </tr>\n    <tr>\n      <th>12</th>\n      <td>Sun</td>\n      <td>2022-03-06</td>\n      <td>ATX</td>\n      <td>-450.0</td>\n      <td>101.0</td>\n      <td>MIA</td>\n      <td>330.0</td>\n      <td>-101.0</td>\n      <td>-551.0</td>\n      <td>431.0</td>\n      <td>75</td>\n      <td>MIA</td>\n    </tr>\n  </tbody>\n</table>\n</div>"
     },
     "execution_count": 1138,
     "metadata": {},
     "output_type": "execute_result"
    }
   ],
   "source": [
    "Bets"
   ],
   "metadata": {
    "collapsed": false,
    "pycharm": {
     "name": "#%%\n"
    }
   }
  }
 ],
 "metadata": {
  "kernelspec": {
   "display_name": "Python 3",
   "language": "python",
   "name": "python3"
  },
  "language_info": {
   "codemirror_mode": {
    "name": "ipython",
    "version": 2
   },
   "file_extension": ".py",
   "mimetype": "text/x-python",
   "name": "python",
   "nbconvert_exporter": "python",
   "pygments_lexer": "ipython2",
   "version": "2.7.6"
  }
 },
 "nbformat": 4,
 "nbformat_minor": 0
}