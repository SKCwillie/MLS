{
 "cells": [
  {
   "cell_type": "code",
   "execution_count": 22,
   "metadata": {
    "collapsed": true
   },
   "outputs": [],
   "source": [
    "import pandas as pd\n",
    "import requests\n",
    "from bs4 import BeautifulSoup\n",
    "import numpy as np\n",
    "import re\n",
    "ROOT = '/home/robert/.config/JetBrains/DataSpell2021.3/projects/MLS'\n",
    "CURRENT_YEAR = 2022"
   ]
  },
  {
   "cell_type": "code",
   "execution_count": 23,
   "outputs": [],
   "source": [
    "def split_score(score):\n",
    "    split = score.split('-')\n",
    "    if '(' not in score:\n",
    "        return split[0], split[1]\n",
    "    else:\n",
    "        return split[0].split(') ')[1], split[1].split(' (')[0]"
   ],
   "metadata": {
    "collapsed": false,
    "pycharm": {
     "name": "#%%\n"
    }
   }
  },
  {
   "cell_type": "code",
   "execution_count": 24,
   "outputs": [],
   "source": [
    "def get_winner(home_team, away_team, score):\n",
    "    home_score, away_score = split_score(score)\n",
    "    if home_score > away_score:\n",
    "        return home_team\n",
    "    elif away_score > home_score:\n",
    "        return away_team\n",
    "    # Return regular season Tie\n",
    "    elif '(' not in score and home_score == away_score:\n",
    "        return np.nan\n",
    "    elif '(' in score and home_score == away_score:\n",
    "        home_pen = score.split('-')[0]\n",
    "        home_pen = int(re.search('\\(([^)]+)', home_pen).group(1))\n",
    "        away_pen = score.split('-')[1]\n",
    "        away_pen = int(re.search('\\(([^)]+)', away_pen).group(1))\n",
    "        if home_pen > away_pen:\n",
    "            return home_team\n",
    "        else:\n",
    "            return away_team"
   ],
   "metadata": {
    "collapsed": false,
    "pycharm": {
     "name": "#%%\n"
    }
   }
  },
  {
   "cell_type": "code",
   "execution_count": 25,
   "outputs": [],
   "source": [
    "def generate_games_played(code, year):\n",
    "    \"\"\"Giver a year and code, this script will go scrape sports-reference, create a csv, and return a df\"\"\"\n",
    "    if year==CURRENT_YEAR:\n",
    "        url = 'https://fbref.com/en/comps/22/schedule/Major-League-Soccer-Scores-and-Fixtures'\n",
    "        page = requests.get(url)\n",
    "        soup = BeautifulSoup(page.content, 'html.parser')\n",
    "        table = soup.find_all('table', {'id': 'sched_11499_1'})\n",
    "        df = pd.read_html(str(table))[0]\n",
    "        if 'Round' not in list(df.columns):\n",
    "            df['Round']='Regular Season'\n",
    "        df = df[df.Score != 'Score']\n",
    "    else:\n",
    "        url = f'https://fbref.com/en/comps/22/{code}/schedule/{year}-Major-League-Soccer-Scores-and-Fixtures'\n",
    "        page = requests.get(url)\n",
    "        soup = BeautifulSoup(page.content, 'html.parser')\n",
    "        table = soup.find_all('table', {'id': 'sched_all'})\n",
    "        df = pd.read_html(str(table))[0]\n",
    "\n",
    "    try:\n",
    "        columns = ['Round', 'Date', 'Home', 'xG', 'Score', 'xG.1', 'Away', 'Venue', 'Attendance']\n",
    "        df = df[columns]\n",
    "    except KeyError:\n",
    "        columns = ['Round', 'Date', 'Home', 'Score', 'Away', 'Venue','Attendance']\n",
    "        df = df[columns]\n",
    "    df['GHome'] = np.nan\n",
    "    df['GAway'] = np.nan\n",
    "    df['Winner'] = np.nan\n",
    "    df['Season'] = np.nan\n",
    "    for i in df.index:\n",
    "        try:\n",
    "            df.at[i, 'Score']=df.at[i, 'Score'].replace('–', '-')\n",
    "        except AttributeError:\n",
    "            df.drop([i], inplace=True)\n",
    "            continue\n",
    "        if df.at[i, 'Round']=='Round':\n",
    "            df.drop([i], inplace=True)\n",
    "            continue\n",
    "        df.at[i, 'Season'] = year\n",
    "        df.at[i, 'GHome'], df.at[i, 'GAway'] = split_score(df.at[i, 'Score'])\n",
    "        df.at[i, 'Winner'] = get_winner(df.at[i, 'Home'], df.at[i, 'Away'], df.at[i, 'Score'])\n",
    "    df['GHome'] = df.GHome.astype('int64')\n",
    "    df['GAway'] = df.GAway.astype('int64')\n",
    "    df['Season'] = df.Season.astype('int64')\n",
    "    df['Date'] = pd.to_datetime(df['Date'], format='%Y-%m-%d')\n",
    "    df['Attendance'].fillna(0, inplace=True)\n",
    "    df['Attendance'] = df.Attendance.astype('int64')\n",
    "    df.rename(columns={'xG': 'xGH', 'xG.1':'xGA'}, inplace=True)\n",
    "    df.drop(['Score'], axis=1, inplace=True)\n",
    "    df.to_csv(f'{ROOT}/Results/{year}.csv')\n",
    "    return df"
   ],
   "metadata": {
    "collapsed": false,
    "pycharm": {
     "name": "#%%\n"
    }
   }
  },
  {
   "cell_type": "code",
   "execution_count": 26,
   "outputs": [],
   "source": [
    "url_codes = {2022:0, 2021: 11006, 2020: 10090, 2019:2798, 2018:1759, 2017:1558, 2016:1503, 2015:1369, 2014:708, 2013:643, 2012:577, 2011:509, 2010:442, 2009:374, 2008:316, 2007:260, 2006:211, 2005:168, 2004:133, 2003:100, 2002:75, 2001:56, 2000:44, 1999:37, 1998:34, 1997: 32, 1996: 30}"
   ],
   "metadata": {
    "collapsed": false,
    "pycharm": {
     "name": "#%%\n"
    }
   }
  },
  {
   "cell_type": "code",
   "execution_count": 27,
   "outputs": [],
   "source": [
    "AllYears = pd.DataFrame()\n",
    "for year in url_codes:\n",
    "    df = generate_games_played(url_codes[year], year)\n",
    "    df = df[['Season','Round', 'Venue', 'Date', 'Home', 'GHome', 'GAway', 'Away','Winner']]\n",
    "    AllYears = pd.concat([AllYears, df], ignore_index=True)\n",
    "    AllYears = AllYears.sort_values(by=['Date'])\n",
    "AllYears.to_csv(f'{ROOT}/Results/AllYears.csv')"
   ],
   "metadata": {
    "collapsed": false,
    "pycharm": {
     "name": "#%%\n"
    }
   }
  }
 ],
 "metadata": {
  "kernelspec": {
   "display_name": "Python 3",
   "language": "python",
   "name": "python3"
  },
  "language_info": {
   "codemirror_mode": {
    "name": "ipython",
    "version": 2
   },
   "file_extension": ".py",
   "mimetype": "text/x-python",
   "name": "python",
   "nbconvert_exporter": "python",
   "pygments_lexer": "ipython2",
   "version": "2.7.6"
  }
 },
 "nbformat": 4,
 "nbformat_minor": 0
}