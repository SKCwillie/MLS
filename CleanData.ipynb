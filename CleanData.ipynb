{
 "cells": [
  {
   "cell_type": "code",
   "execution_count": 158,
   "metadata": {
    "collapsed": true
   },
   "outputs": [],
   "source": [
    "import numpy as np\n",
    "import pandas as pd\n",
    "import geopandas as gpd\n",
    "from geopy.distance import geodesic\n",
    "\n",
    "ROOT = '/home/robert/.config/JetBrains/DataSpell2021.3/projects/MLS'\n",
    "INITIAL_ELO = 1500\n",
    "K = 20\n",
    "HOME_ADV = 100"
   ]
  },
  {
   "cell_type": "code",
   "execution_count": 159,
   "outputs": [],
   "source": [
    "AllYears = pd.read_csv(f'{ROOT}/Results/AllYears.csv', index_col=0)\n",
    "AllYears.drop(['Venue'], axis=1, inplace=True)\n",
    "AllYears = AllYears.sort_values(by=['Date'])"
   ],
   "metadata": {
    "collapsed": false,
    "pycharm": {
     "name": "#%%\n"
    }
   }
  },
  {
   "cell_type": "code",
   "execution_count": 160,
   "outputs": [],
   "source": [
    "teams = {'Atlanta Utd': ['ATL', 'Atlanta'],\n",
    "         'Austin FC': ['ATX', 'Austin'],\n",
    "         'CF Montréal': ['MTL', 'Montreal'],\n",
    "         'Charlotte FC': ['CLT', 'Charlotte'],\n",
    "         'Chicago Fire': ['CHI', 'Chicago'],\n",
    "         'Chivas USA': ['CHV', 'Los Angeles'],\n",
    "         'Colorado Rapids': ['COL', 'Denver'],\n",
    "         'Columbus Crew': ['CLB', 'Columbus'],\n",
    "         'D.C. United': ['DC', 'Washington DC'],\n",
    "         'Dallas Burn': ['DAL', 'Dallas'],\n",
    "         'FC Cincinnati': ['CIN', 'Cincinnati'],\n",
    "         'FC Dallas': ['DAL', 'Dallas'],\n",
    "         'Houston Dynamo': ['HOU', 'Houston'],\n",
    "         'Inter Miami': ['MIA', 'Miami'],\n",
    "         'KC Wiz': ['SKC', 'Kansas City'],\n",
    "         'KC Wizards': ['SKC', 'Kansas City'],\n",
    "         'LA Galaxy': ['LA', 'Los Angeles'],\n",
    "         'Los Angeles FC': ['LAFC', 'Los Angeles'],\n",
    "         'MetroStars': ['RBNY', 'New York'],\n",
    "         'Miami Fusion': ['MIAF', 'Miami'],\n",
    "         'Minnesota Utd': ['MIN', 'Saint Paul'],\n",
    "         'Montreal Impact': ['MTL', 'Montreal Impact'],\n",
    "         'NY Red Bulls': ['RBNY', 'New York'],\n",
    "         'NYCFC': ['NYC', 'New York'],\n",
    "         'Nashville': ['NSH', 'Nashville'],\n",
    "         'New England': ['NE', 'Foxborough'],\n",
    "         'Orlando City': ['ORL', 'Orlando'],\n",
    "         'Philadelphia': ['PHI', 'Chester'],\n",
    "         'Portland Timbers': ['POR', 'Portland'],\n",
    "         'Real Salt Lake': ['RSL', 'Sandy'],\n",
    "         'San Jose': ['SJ', 'San Jose'],\n",
    "         'Seattle': ['SEA', 'Seattle'],\n",
    "         'Sporting KC': ['SKC', 'Kansas City'],\n",
    "         'Tampa Bay': ['TB', 'Tampa Bay'],\n",
    "         'Toronto FC': ['TOR', 'Toronto'],\n",
    "         'Vancouver': ['VAN', 'Vancouver']\n",
    "             }\n",
    "elo = {}"
   ],
   "metadata": {
    "collapsed": false,
    "pycharm": {
     "name": "#%%\n"
    }
   }
  },
  {
   "cell_type": "code",
   "execution_count": 161,
   "outputs": [],
   "source": [
    "def get_distance(city1, city2):\n",
    "    def get_lat_long(city):\n",
    "        lat = gpd.tools.geocode(city).geometry.y.values[0]\n",
    "        long = gpd.tools.geocode(city).geometry.x.values[0]\n",
    "        return (lat, long)\n",
    "    return int(geodesic(get_lat_long(city1), get_lat_long(city2)).mi)"
   ],
   "metadata": {
    "collapsed": false,
    "pycharm": {
     "name": "#%%\n"
    }
   }
  },
  {
   "cell_type": "markdown",
   "source": [
    "## Elo Functions"
   ],
   "metadata": {
    "collapsed": false
   }
  },
  {
   "cell_type": "code",
   "execution_count": 162,
   "outputs": [
    {
     "data": {
      "text/plain": "(1481, 1519)"
     },
     "execution_count": 162,
     "metadata": {},
     "output_type": "execute_result"
    }
   ],
   "source": [
    "def win_chance(elo1, elo2):\n",
    "    \"\"\"Given elo1 and elo2, will return the chance of elo1 winning\"\"\"\n",
    "    return  1 / ( 1 + 10**((elo2-elo1)/400) )\n",
    "\n",
    "def get_g(score1, score2):\n",
    "    if score2 > score1:\n",
    "        score1, score2 = score2, score1\n",
    "    if score1 - score2 <=1:\n",
    "        return 1\n",
    "    elif score1 - score2 == 2:\n",
    "        return 1.5\n",
    "    else:\n",
    "        return (11 + score1 - score2) / 8\n",
    "\n",
    "def update_elo(home_elo, away_elo, home_score, away_score):\n",
    "    G = get_g(home_score, away_score)\n",
    "    if home_score==away_score:\n",
    "        W = 0.5\n",
    "    elif home_score > away_score:\n",
    "        W = 1\n",
    "    else:\n",
    "        W = 0\n",
    "    We = win_chance(home_elo + HOME_ADV, away_elo)\n",
    "    elo_change = K * G * (W - We)\n",
    "    home_elo += elo_change\n",
    "    away_elo -= elo_change\n",
    "    return int(round(home_elo, 0)), int(round(away_elo, 0))\n",
    "\n",
    "update_elo(1500, 1500, 1, 3)"
   ],
   "metadata": {
    "collapsed": false,
    "pycharm": {
     "name": "#%%\n"
    }
   }
  },
  {
   "cell_type": "code",
   "execution_count": 163,
   "outputs": [],
   "source": [
    "for i in AllYears.index:\n",
    "    AllYears.at[i, 'Home'] = teams[AllYears.at[i, 'Home']][0]\n",
    "    AllYears.at[i, 'Away'] = teams[AllYears.at[i, 'Away']][0]\n",
    "    if AllYears.at[i, 'Winner'] == AllYears.at[i, 'Winner']:\n",
    "        AllYears.at[i, 'Winner'] = teams[AllYears.at[i, 'Winner']][0]\n",
    "    else:\n",
    "        AllYears.at[i, 'Winner'] = 'Draw'\n",
    "    if AllYears.at[i, 'Home'] not in elo:\n",
    "        elo[AllYears.at[i, 'Home']]=INITIAL_ELO\n",
    "    if AllYears.at[i, 'Away'] not in elo:\n",
    "        elo[AllYears.at[i, 'Away']]=INITIAL_ELO"
   ],
   "metadata": {
    "collapsed": false,
    "pycharm": {
     "name": "#%%\n"
    }
   }
  },
  {
   "cell_type": "code",
   "execution_count": 164,
   "outputs": [],
   "source": [
    "def get_regular_season(team_code):\n",
    "    home_games = AllYears[AllYears.Home==team_code][AllYears[AllYears.Home==team_code].Round=='Regular Season']\n",
    "    away_games = AllYears[AllYears.Away==team_code][AllYears[AllYears.Away==team_code].Round=='Regular Season']\n",
    "    return pd.concat([home_games, away_games]).sort_values(by=['Date'])"
   ],
   "metadata": {
    "collapsed": false,
    "pycharm": {
     "name": "#%%\n"
    }
   }
  },
  {
   "cell_type": "code",
   "execution_count": 165,
   "outputs": [],
   "source": [
    "def get_overall_record(team_code):\n",
    "    df = get_regular_season(team_code)\n",
    "    wins = len(df[df.Winner==team_code])\n",
    "    draws = len(df[df.Winner=='Draw'])\n",
    "    losses = len(df) - wins - draws\n",
    "    return wins, draws, losses"
   ],
   "metadata": {
    "collapsed": false,
    "pycharm": {
     "name": "#%%\n"
    }
   }
  },
  {
   "cell_type": "code",
   "execution_count": 166,
   "outputs": [
    {
     "data": {
      "text/plain": "31"
     },
     "execution_count": 166,
     "metadata": {},
     "output_type": "execute_result"
    }
   ],
   "source": [
    "AllYears['HomeElo'] = np.nan\n",
    "AllYears['AwayElo'] = np.nan\n",
    "len(elo)"
   ],
   "metadata": {
    "collapsed": false,
    "pycharm": {
     "name": "#%%\n"
    }
   }
  },
  {
   "cell_type": "code",
   "execution_count": 167,
   "outputs": [],
   "source": [
    "for i in AllYears.index:\n",
    "    # Define some variables\n",
    "    home_code = AllYears.at[i, 'Home']\n",
    "    home_score = AllYears.at[i, 'GHome']\n",
    "    away_code = AllYears.at[i, 'Away']\n",
    "    away_score = AllYears.at[i, 'GAway']\n",
    "    # Add current Elos to df\n",
    "    AllYears.at[i, 'HomeElo'] = elo[home_code]\n",
    "    AllYears.at[i, 'AwayElo'] = elo[away_code]\n",
    "\n",
    "    # Update Elos\n",
    "    new_home_elo, new_away_elo = update_elo(elo[home_code], elo[away_code], home_score, away_score)\n",
    "    elo[home_code]= new_home_elo\n",
    "    elo[away_code]= new_away_elo"
   ],
   "metadata": {
    "collapsed": false,
    "pycharm": {
     "name": "#%%\n"
    }
   }
  },
  {
   "cell_type": "markdown",
   "source": [
    "## All-time Rolling Elos"
   ],
   "metadata": {
    "collapsed": false,
    "pycharm": {
     "name": "#%% md\n"
    }
   }
  },
  {
   "cell_type": "markdown",
   "source": [
    "Eventually, I will regress the teams to the mean towards the end of the season but for now, a rough this will represent a rough model to further work on some features. Mainly, creating a criteria in which the model will predict draws"
   ],
   "metadata": {
    "collapsed": false,
    "pycharm": {
     "name": "#%% md\n"
    }
   }
  },
  {
   "cell_type": "code",
   "execution_count": 168,
   "outputs": [
    {
     "data": {
      "text/plain": "      Season           Round        Date Home  GHome  GAway  Away Winner  \\\n6848    1996  Regular Season  1996-04-06   SJ      1      0    DC     SJ   \n6849    1996  Regular Season  1996-04-13   LA      2      1  RBNY     LA   \n6850    1996  Regular Season  1996-04-13   TB      3      2    NE     TB   \n6851    1996  Regular Season  1996-04-13  SKC      3      0   COL    SKC   \n6852    1996  Regular Season  1996-04-13  CLB      4      0    DC    CLB   \n...      ...             ...         ...  ...    ...    ...   ...    ...   \n6844    2022  Regular Season  2022-02-27  ATL      3      1   SKC    ATL   \n6845    2022  Regular Season  2022-02-27  ORL      2      0   MTL    ORL   \n6847    2022  Regular Season  2022-02-27  SEA      0      1   NSH    NSH   \n6843    2022  Regular Season  2022-02-27  HOU      0      0   RSL   Draw   \n6846    2022  Regular Season  2022-02-27   LA      1      0   NYC     LA   \n\n      HomeElo  AwayElo  \n6848     1500     1500  \n6849     1500     1500  \n6850     1500     1500  \n6851     1500     1500  \n6852     1500     1493  \n...       ...      ...  \n6844     1527     1566  \n6845     1517     1465  \n6847     1611     1599  \n6843     1379     1503  \n6846     1478     1619  \n\n[7025 rows x 10 columns]",
      "text/html": "<div>\n<style scoped>\n    .dataframe tbody tr th:only-of-type {\n        vertical-align: middle;\n    }\n\n    .dataframe tbody tr th {\n        vertical-align: top;\n    }\n\n    .dataframe thead th {\n        text-align: right;\n    }\n</style>\n<table border=\"1\" class=\"dataframe\">\n  <thead>\n    <tr style=\"text-align: right;\">\n      <th></th>\n      <th>Season</th>\n      <th>Round</th>\n      <th>Date</th>\n      <th>Home</th>\n      <th>GHome</th>\n      <th>GAway</th>\n      <th>Away</th>\n      <th>Winner</th>\n      <th>HomeElo</th>\n      <th>AwayElo</th>\n    </tr>\n  </thead>\n  <tbody>\n    <tr>\n      <th>6848</th>\n      <td>1996</td>\n      <td>Regular Season</td>\n      <td>1996-04-06</td>\n      <td>SJ</td>\n      <td>1</td>\n      <td>0</td>\n      <td>DC</td>\n      <td>SJ</td>\n      <td>1500</td>\n      <td>1500</td>\n    </tr>\n    <tr>\n      <th>6849</th>\n      <td>1996</td>\n      <td>Regular Season</td>\n      <td>1996-04-13</td>\n      <td>LA</td>\n      <td>2</td>\n      <td>1</td>\n      <td>RBNY</td>\n      <td>LA</td>\n      <td>1500</td>\n      <td>1500</td>\n    </tr>\n    <tr>\n      <th>6850</th>\n      <td>1996</td>\n      <td>Regular Season</td>\n      <td>1996-04-13</td>\n      <td>TB</td>\n      <td>3</td>\n      <td>2</td>\n      <td>NE</td>\n      <td>TB</td>\n      <td>1500</td>\n      <td>1500</td>\n    </tr>\n    <tr>\n      <th>6851</th>\n      <td>1996</td>\n      <td>Regular Season</td>\n      <td>1996-04-13</td>\n      <td>SKC</td>\n      <td>3</td>\n      <td>0</td>\n      <td>COL</td>\n      <td>SKC</td>\n      <td>1500</td>\n      <td>1500</td>\n    </tr>\n    <tr>\n      <th>6852</th>\n      <td>1996</td>\n      <td>Regular Season</td>\n      <td>1996-04-13</td>\n      <td>CLB</td>\n      <td>4</td>\n      <td>0</td>\n      <td>DC</td>\n      <td>CLB</td>\n      <td>1500</td>\n      <td>1493</td>\n    </tr>\n    <tr>\n      <th>...</th>\n      <td>...</td>\n      <td>...</td>\n      <td>...</td>\n      <td>...</td>\n      <td>...</td>\n      <td>...</td>\n      <td>...</td>\n      <td>...</td>\n      <td>...</td>\n      <td>...</td>\n    </tr>\n    <tr>\n      <th>6844</th>\n      <td>2022</td>\n      <td>Regular Season</td>\n      <td>2022-02-27</td>\n      <td>ATL</td>\n      <td>3</td>\n      <td>1</td>\n      <td>SKC</td>\n      <td>ATL</td>\n      <td>1527</td>\n      <td>1566</td>\n    </tr>\n    <tr>\n      <th>6845</th>\n      <td>2022</td>\n      <td>Regular Season</td>\n      <td>2022-02-27</td>\n      <td>ORL</td>\n      <td>2</td>\n      <td>0</td>\n      <td>MTL</td>\n      <td>ORL</td>\n      <td>1517</td>\n      <td>1465</td>\n    </tr>\n    <tr>\n      <th>6847</th>\n      <td>2022</td>\n      <td>Regular Season</td>\n      <td>2022-02-27</td>\n      <td>SEA</td>\n      <td>0</td>\n      <td>1</td>\n      <td>NSH</td>\n      <td>NSH</td>\n      <td>1611</td>\n      <td>1599</td>\n    </tr>\n    <tr>\n      <th>6843</th>\n      <td>2022</td>\n      <td>Regular Season</td>\n      <td>2022-02-27</td>\n      <td>HOU</td>\n      <td>0</td>\n      <td>0</td>\n      <td>RSL</td>\n      <td>Draw</td>\n      <td>1379</td>\n      <td>1503</td>\n    </tr>\n    <tr>\n      <th>6846</th>\n      <td>2022</td>\n      <td>Regular Season</td>\n      <td>2022-02-27</td>\n      <td>LA</td>\n      <td>1</td>\n      <td>0</td>\n      <td>NYC</td>\n      <td>LA</td>\n      <td>1478</td>\n      <td>1619</td>\n    </tr>\n  </tbody>\n</table>\n<p>7025 rows × 10 columns</p>\n</div>"
     },
     "execution_count": 168,
     "metadata": {},
     "output_type": "execute_result"
    }
   ],
   "source": [
    "AllYears.HomeElo = AllYears.HomeElo.astype('int64')\n",
    "AllYears.AwayElo = AllYears.AwayElo.astype('int64')\n",
    "AllYears"
   ],
   "metadata": {
    "collapsed": false,
    "pycharm": {
     "name": "#%%\n"
    }
   }
  },
  {
   "cell_type": "markdown",
   "source": [
    "### Calculate the percentage of games the end in Draws"
   ],
   "metadata": {
    "collapsed": false,
    "pycharm": {
     "name": "#%% md\n"
    }
   }
  },
  {
   "cell_type": "code",
   "execution_count": 169,
   "outputs": [
    {
     "data": {
      "text/plain": "0.246286535697173"
     },
     "execution_count": 169,
     "metadata": {},
     "output_type": "execute_result"
    }
   ],
   "source": [
    "PostDraws = AllYears[AllYears.Season>=2000]\n",
    "Draws = PostDraws[PostDraws.Winner=='Draw']\n",
    "len(Draws) / len(PostDraws)"
   ],
   "metadata": {
    "collapsed": false,
    "pycharm": {
     "name": "#%%\n"
    }
   }
  },
  {
   "cell_type": "code",
   "execution_count": 170,
   "outputs": [
    {
     "data": {
      "text/plain": "      Season           Round        Date  Home  GHome  GAway Away Winner  \\\n797     2001  Regular Season  2001-04-07  RBNY      2      1   NE   RBNY   \n801     2001  Regular Season  2001-04-07    DC      3      2  SKC     DC   \n796     2001  Regular Season  2001-04-07   CLB      1      1  CHI   Draw   \n799     2001  Regular Season  2001-04-07    LA      2      3   SJ     SJ   \n798     2001  Regular Season  2001-04-07   DAL      2      4   TB     TB   \n...      ...             ...         ...   ...    ...    ...  ...    ...   \n6844    2022  Regular Season  2022-02-27   ATL      3      1  SKC    ATL   \n6845    2022  Regular Season  2022-02-27   ORL      2      0  MTL    ORL   \n6847    2022  Regular Season  2022-02-27   SEA      0      1  NSH    NSH   \n6843    2022  Regular Season  2022-02-27   HOU      0      0  RSL   Draw   \n6846    2022  Regular Season  2022-02-27    LA      1      0  NYC     LA   \n\n      HomeElo  AwayElo  Prediction  \n797      1518     1449         NaN  \n801      1468     1553         NaN  \n796      1468     1595         NaN  \n799      1598     1414         NaN  \n798      1523     1507         NaN  \n...       ...      ...         ...  \n6844     1527     1566         NaN  \n6845     1517     1465         NaN  \n6847     1611     1599         NaN  \n6843     1379     1503         NaN  \n6846     1478     1619         NaN  \n\n[6052 rows x 11 columns]",
      "text/html": "<div>\n<style scoped>\n    .dataframe tbody tr th:only-of-type {\n        vertical-align: middle;\n    }\n\n    .dataframe tbody tr th {\n        vertical-align: top;\n    }\n\n    .dataframe thead th {\n        text-align: right;\n    }\n</style>\n<table border=\"1\" class=\"dataframe\">\n  <thead>\n    <tr style=\"text-align: right;\">\n      <th></th>\n      <th>Season</th>\n      <th>Round</th>\n      <th>Date</th>\n      <th>Home</th>\n      <th>GHome</th>\n      <th>GAway</th>\n      <th>Away</th>\n      <th>Winner</th>\n      <th>HomeElo</th>\n      <th>AwayElo</th>\n      <th>Prediction</th>\n    </tr>\n  </thead>\n  <tbody>\n    <tr>\n      <th>797</th>\n      <td>2001</td>\n      <td>Regular Season</td>\n      <td>2001-04-07</td>\n      <td>RBNY</td>\n      <td>2</td>\n      <td>1</td>\n      <td>NE</td>\n      <td>RBNY</td>\n      <td>1518</td>\n      <td>1449</td>\n      <td>NaN</td>\n    </tr>\n    <tr>\n      <th>801</th>\n      <td>2001</td>\n      <td>Regular Season</td>\n      <td>2001-04-07</td>\n      <td>DC</td>\n      <td>3</td>\n      <td>2</td>\n      <td>SKC</td>\n      <td>DC</td>\n      <td>1468</td>\n      <td>1553</td>\n      <td>NaN</td>\n    </tr>\n    <tr>\n      <th>796</th>\n      <td>2001</td>\n      <td>Regular Season</td>\n      <td>2001-04-07</td>\n      <td>CLB</td>\n      <td>1</td>\n      <td>1</td>\n      <td>CHI</td>\n      <td>Draw</td>\n      <td>1468</td>\n      <td>1595</td>\n      <td>NaN</td>\n    </tr>\n    <tr>\n      <th>799</th>\n      <td>2001</td>\n      <td>Regular Season</td>\n      <td>2001-04-07</td>\n      <td>LA</td>\n      <td>2</td>\n      <td>3</td>\n      <td>SJ</td>\n      <td>SJ</td>\n      <td>1598</td>\n      <td>1414</td>\n      <td>NaN</td>\n    </tr>\n    <tr>\n      <th>798</th>\n      <td>2001</td>\n      <td>Regular Season</td>\n      <td>2001-04-07</td>\n      <td>DAL</td>\n      <td>2</td>\n      <td>4</td>\n      <td>TB</td>\n      <td>TB</td>\n      <td>1523</td>\n      <td>1507</td>\n      <td>NaN</td>\n    </tr>\n    <tr>\n      <th>...</th>\n      <td>...</td>\n      <td>...</td>\n      <td>...</td>\n      <td>...</td>\n      <td>...</td>\n      <td>...</td>\n      <td>...</td>\n      <td>...</td>\n      <td>...</td>\n      <td>...</td>\n      <td>...</td>\n    </tr>\n    <tr>\n      <th>6844</th>\n      <td>2022</td>\n      <td>Regular Season</td>\n      <td>2022-02-27</td>\n      <td>ATL</td>\n      <td>3</td>\n      <td>1</td>\n      <td>SKC</td>\n      <td>ATL</td>\n      <td>1527</td>\n      <td>1566</td>\n      <td>NaN</td>\n    </tr>\n    <tr>\n      <th>6845</th>\n      <td>2022</td>\n      <td>Regular Season</td>\n      <td>2022-02-27</td>\n      <td>ORL</td>\n      <td>2</td>\n      <td>0</td>\n      <td>MTL</td>\n      <td>ORL</td>\n      <td>1517</td>\n      <td>1465</td>\n      <td>NaN</td>\n    </tr>\n    <tr>\n      <th>6847</th>\n      <td>2022</td>\n      <td>Regular Season</td>\n      <td>2022-02-27</td>\n      <td>SEA</td>\n      <td>0</td>\n      <td>1</td>\n      <td>NSH</td>\n      <td>NSH</td>\n      <td>1611</td>\n      <td>1599</td>\n      <td>NaN</td>\n    </tr>\n    <tr>\n      <th>6843</th>\n      <td>2022</td>\n      <td>Regular Season</td>\n      <td>2022-02-27</td>\n      <td>HOU</td>\n      <td>0</td>\n      <td>0</td>\n      <td>RSL</td>\n      <td>Draw</td>\n      <td>1379</td>\n      <td>1503</td>\n      <td>NaN</td>\n    </tr>\n    <tr>\n      <th>6846</th>\n      <td>2022</td>\n      <td>Regular Season</td>\n      <td>2022-02-27</td>\n      <td>LA</td>\n      <td>1</td>\n      <td>0</td>\n      <td>NYC</td>\n      <td>LA</td>\n      <td>1478</td>\n      <td>1619</td>\n      <td>NaN</td>\n    </tr>\n  </tbody>\n</table>\n<p>6052 rows × 11 columns</p>\n</div>"
     },
     "execution_count": 170,
     "metadata": {},
     "output_type": "execute_result"
    }
   ],
   "source": [
    "Predictions = AllYears[AllYears.Season >= 2001].copy(deep=True)\n",
    "Predictions['Prediction']=np.nan\n",
    "Predictions"
   ],
   "metadata": {
    "collapsed": false,
    "pycharm": {
     "name": "#%%\n"
    }
   }
  },
  {
   "cell_type": "code",
   "execution_count": 171,
   "outputs": [],
   "source": [
    "for i in Predictions.index:\n",
    "    if Predictions.at[i, 'HomeElo'] >= Predictions.at[i, 'AwayElo']:\n",
    "        Predictions.at[i, 'Prediction'] = Predictions.at[i, 'Home']\n",
    "    else:\n",
    "        Predictions.at[i, 'Prediction'] = Predictions.at[i, 'Away']"
   ],
   "metadata": {
    "collapsed": false,
    "pycharm": {
     "name": "#%%\n"
    }
   }
  },
  {
   "cell_type": "code",
   "execution_count": 172,
   "outputs": [
    {
     "data": {
      "text/plain": "      Season           Round        Date  Home  GHome  GAway Away Winner  \\\n797     2001  Regular Season  2001-04-07  RBNY      2      1   NE   RBNY   \n801     2001  Regular Season  2001-04-07    DC      3      2  SKC     DC   \n796     2001  Regular Season  2001-04-07   CLB      1      1  CHI   Draw   \n799     2001  Regular Season  2001-04-07    LA      2      3   SJ     SJ   \n798     2001  Regular Season  2001-04-07   DAL      2      4   TB     TB   \n...      ...             ...         ...   ...    ...    ...  ...    ...   \n6844    2022  Regular Season  2022-02-27   ATL      3      1  SKC    ATL   \n6845    2022  Regular Season  2022-02-27   ORL      2      0  MTL    ORL   \n6847    2022  Regular Season  2022-02-27   SEA      0      1  NSH    NSH   \n6843    2022  Regular Season  2022-02-27   HOU      0      0  RSL   Draw   \n6846    2022  Regular Season  2022-02-27    LA      1      0  NYC     LA   \n\n      HomeElo  AwayElo Prediction  \n797      1518     1449       RBNY  \n801      1468     1553        SKC  \n796      1468     1595        CHI  \n799      1598     1414         LA  \n798      1523     1507        DAL  \n...       ...      ...        ...  \n6844     1527     1566        SKC  \n6845     1517     1465        ORL  \n6847     1611     1599        SEA  \n6843     1379     1503        RSL  \n6846     1478     1619        NYC  \n\n[6052 rows x 11 columns]",
      "text/html": "<div>\n<style scoped>\n    .dataframe tbody tr th:only-of-type {\n        vertical-align: middle;\n    }\n\n    .dataframe tbody tr th {\n        vertical-align: top;\n    }\n\n    .dataframe thead th {\n        text-align: right;\n    }\n</style>\n<table border=\"1\" class=\"dataframe\">\n  <thead>\n    <tr style=\"text-align: right;\">\n      <th></th>\n      <th>Season</th>\n      <th>Round</th>\n      <th>Date</th>\n      <th>Home</th>\n      <th>GHome</th>\n      <th>GAway</th>\n      <th>Away</th>\n      <th>Winner</th>\n      <th>HomeElo</th>\n      <th>AwayElo</th>\n      <th>Prediction</th>\n    </tr>\n  </thead>\n  <tbody>\n    <tr>\n      <th>797</th>\n      <td>2001</td>\n      <td>Regular Season</td>\n      <td>2001-04-07</td>\n      <td>RBNY</td>\n      <td>2</td>\n      <td>1</td>\n      <td>NE</td>\n      <td>RBNY</td>\n      <td>1518</td>\n      <td>1449</td>\n      <td>RBNY</td>\n    </tr>\n    <tr>\n      <th>801</th>\n      <td>2001</td>\n      <td>Regular Season</td>\n      <td>2001-04-07</td>\n      <td>DC</td>\n      <td>3</td>\n      <td>2</td>\n      <td>SKC</td>\n      <td>DC</td>\n      <td>1468</td>\n      <td>1553</td>\n      <td>SKC</td>\n    </tr>\n    <tr>\n      <th>796</th>\n      <td>2001</td>\n      <td>Regular Season</td>\n      <td>2001-04-07</td>\n      <td>CLB</td>\n      <td>1</td>\n      <td>1</td>\n      <td>CHI</td>\n      <td>Draw</td>\n      <td>1468</td>\n      <td>1595</td>\n      <td>CHI</td>\n    </tr>\n    <tr>\n      <th>799</th>\n      <td>2001</td>\n      <td>Regular Season</td>\n      <td>2001-04-07</td>\n      <td>LA</td>\n      <td>2</td>\n      <td>3</td>\n      <td>SJ</td>\n      <td>SJ</td>\n      <td>1598</td>\n      <td>1414</td>\n      <td>LA</td>\n    </tr>\n    <tr>\n      <th>798</th>\n      <td>2001</td>\n      <td>Regular Season</td>\n      <td>2001-04-07</td>\n      <td>DAL</td>\n      <td>2</td>\n      <td>4</td>\n      <td>TB</td>\n      <td>TB</td>\n      <td>1523</td>\n      <td>1507</td>\n      <td>DAL</td>\n    </tr>\n    <tr>\n      <th>...</th>\n      <td>...</td>\n      <td>...</td>\n      <td>...</td>\n      <td>...</td>\n      <td>...</td>\n      <td>...</td>\n      <td>...</td>\n      <td>...</td>\n      <td>...</td>\n      <td>...</td>\n      <td>...</td>\n    </tr>\n    <tr>\n      <th>6844</th>\n      <td>2022</td>\n      <td>Regular Season</td>\n      <td>2022-02-27</td>\n      <td>ATL</td>\n      <td>3</td>\n      <td>1</td>\n      <td>SKC</td>\n      <td>ATL</td>\n      <td>1527</td>\n      <td>1566</td>\n      <td>SKC</td>\n    </tr>\n    <tr>\n      <th>6845</th>\n      <td>2022</td>\n      <td>Regular Season</td>\n      <td>2022-02-27</td>\n      <td>ORL</td>\n      <td>2</td>\n      <td>0</td>\n      <td>MTL</td>\n      <td>ORL</td>\n      <td>1517</td>\n      <td>1465</td>\n      <td>ORL</td>\n    </tr>\n    <tr>\n      <th>6847</th>\n      <td>2022</td>\n      <td>Regular Season</td>\n      <td>2022-02-27</td>\n      <td>SEA</td>\n      <td>0</td>\n      <td>1</td>\n      <td>NSH</td>\n      <td>NSH</td>\n      <td>1611</td>\n      <td>1599</td>\n      <td>SEA</td>\n    </tr>\n    <tr>\n      <th>6843</th>\n      <td>2022</td>\n      <td>Regular Season</td>\n      <td>2022-02-27</td>\n      <td>HOU</td>\n      <td>0</td>\n      <td>0</td>\n      <td>RSL</td>\n      <td>Draw</td>\n      <td>1379</td>\n      <td>1503</td>\n      <td>RSL</td>\n    </tr>\n    <tr>\n      <th>6846</th>\n      <td>2022</td>\n      <td>Regular Season</td>\n      <td>2022-02-27</td>\n      <td>LA</td>\n      <td>1</td>\n      <td>0</td>\n      <td>NYC</td>\n      <td>LA</td>\n      <td>1478</td>\n      <td>1619</td>\n      <td>NYC</td>\n    </tr>\n  </tbody>\n</table>\n<p>6052 rows × 11 columns</p>\n</div>"
     },
     "execution_count": 172,
     "metadata": {},
     "output_type": "execute_result"
    }
   ],
   "source": [
    "Predictions"
   ],
   "metadata": {
    "collapsed": false,
    "pycharm": {
     "name": "#%%\n"
    }
   }
  },
  {
   "cell_type": "code",
   "execution_count": 173,
   "outputs": [
    {
     "data": {
      "text/plain": "0.43192333113020487"
     },
     "execution_count": 173,
     "metadata": {},
     "output_type": "execute_result"
    }
   ],
   "source": [
    "len(Predictions[Predictions.Winner==Predictions.Prediction])/len(Predictions)"
   ],
   "metadata": {
    "collapsed": false,
    "pycharm": {
     "name": "#%%\n"
    }
   }
  },
  {
   "cell_type": "markdown",
   "source": [
    "The very first attempt shows correct predictions at 43%. Having not accounted for any draws which, shown above, happen about 25% of the time. 43 > 75/2, so I think this shows promise as a predictive measure of Major League Soccer results."
   ],
   "metadata": {
    "collapsed": false,
    "pycharm": {
     "name": "#%% md\n"
    }
   }
  },
  {
   "cell_type": "code",
   "execution_count": 174,
   "outputs": [],
   "source": [
    "#this is dumb"
   ],
   "metadata": {
    "collapsed": false,
    "pycharm": {
     "name": "#%%\n"
    }
   }
  },
  {
   "cell_type": "code",
   "execution_count": null,
   "outputs": [],
   "source": [],
   "metadata": {
    "collapsed": false,
    "pycharm": {
     "name": "#%%\n"
    }
   }
  }
 ],
 "metadata": {
  "kernelspec": {
   "display_name": "Python 3",
   "language": "python",
   "name": "python3"
  },
  "language_info": {
   "codemirror_mode": {
    "name": "ipython",
    "version": 2
   },
   "file_extension": ".py",
   "mimetype": "text/x-python",
   "name": "python",
   "nbconvert_exporter": "python",
   "pygments_lexer": "ipython2",
   "version": "2.7.6"
  }
 },
 "nbformat": 4,
 "nbformat_minor": 0
}