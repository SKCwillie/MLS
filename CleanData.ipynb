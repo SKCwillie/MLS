{
 "cells": [
  {
   "cell_type": "code",
   "execution_count": 129,
   "metadata": {
    "collapsed": true
   },
   "outputs": [],
   "source": [
    "import pandas as pd\n",
    "import geopandas as gpd\n",
    "from geopy.distance import geodesic\n",
    "\n",
    "ROOT = '/home/robert/.config/JetBrains/DataSpell2021.3/projects/MLS'"
   ]
  },
  {
   "cell_type": "code",
   "execution_count": 130,
   "outputs": [],
   "source": [
    "AllYears = pd.read_csv(f'{ROOT}/Results/AllYears.csv', index_col=0)\n",
    "AllYears.drop(['Venue'], axis=1, inplace=True)\n",
    "AllYears = AllYears.sort_values(by=['Date'])"
   ],
   "metadata": {
    "collapsed": false,
    "pycharm": {
     "name": "#%%\n"
    }
   }
  },
  {
   "cell_type": "code",
   "execution_count": 131,
   "outputs": [],
   "source": [
    "teams = {'Atlanta Utd': ['ATL', 'Atlanta'],\n",
    "         'Austin FC': ['ATX', 'Austin'],\n",
    "         'CF Montréal': ['MTL', 'Montreal'],\n",
    "         'Charlotte FC': ['CLT', 'Charlotte'],\n",
    "         'Chicago Fire': ['CHI', 'Chicago'],\n",
    "         'Chivas USA': ['CHV', 'Los Angeles'],\n",
    "         'Colorado Rapids': ['COL', 'Denver'],\n",
    "         'Columbus Crew': ['CLB', 'Columbus'],\n",
    "         'D.C. United': ['DC', 'Washington DC'],\n",
    "         'Dallas Burn': ['DAL', 'Dallas'],\n",
    "         'FC Cincinnati': ['CIN', 'Cincinnati'],\n",
    "         'FC Dallas': ['DAL', 'Dallas'],\n",
    "         'Houston Dynamo': ['HOU', 'Houston'],\n",
    "         'Inter Miami': ['MIA', 'Miami'],\n",
    "         'KC Wiz': ['SKC', 'Kansas City'],\n",
    "         'KC Wizards': ['SKC', 'Kansas City'],\n",
    "         'LA Galaxy': ['LA', 'Los Angeles'],\n",
    "         'Los Angeles FC': ['LAFC', 'Los Angeles'],\n",
    "         'MetroStars': ['RBNY', 'New York'],\n",
    "         'Miami Fusion': ['MIAF', 'Miami'],\n",
    "         'Minnesota Utd': ['MIN', 'Saint Paul'],\n",
    "         'Montreal Impact': ['MTL', 'Montreal Impact'],\n",
    "         'NY Red Bulls': ['RBNY', 'New York'],\n",
    "         'NYCFC': ['NYC', 'New York'],\n",
    "         'Nashville': ['NSH', 'Nashville'],\n",
    "         'New England': ['NE', 'Foxborough'],\n",
    "         'Orlando City': ['ORL', 'Orlando'],\n",
    "         'Philadelphia': ['PHI', 'Chester'],\n",
    "         'Portland Timbers': ['POR', 'Portland'],\n",
    "         'Real Salt Lake': ['RSL', 'Sandy'],\n",
    "         'San Jose': ['SJ', 'San Jose'],\n",
    "         'Seattle': ['SEA', 'Seattle'],\n",
    "         'Sporting KC': ['SKC', 'Kansas City'],\n",
    "         'Tampa Bay': ['TB', 'Tampa Bay'],\n",
    "         'Toronto FC': ['TOR', 'Toronto'],\n",
    "         'Vancouver': ['VAN', 'Vancouver']\n",
    "             }"
   ],
   "metadata": {
    "collapsed": false,
    "pycharm": {
     "name": "#%%\n"
    }
   }
  },
  {
   "cell_type": "code",
   "execution_count": 132,
   "outputs": [],
   "source": [
    "def get_distance(city1, city2):\n",
    "    def get_lat_long(city):\n",
    "        lat = gpd.tools.geocode(city).geometry.y.values[0]\n",
    "        long = gpd.tools.geocode(city).geometry.x.values[0]\n",
    "        return (lat, long)\n",
    "    return int(geodesic(get_lat_long(city1), get_lat_long(city2)).mi)"
   ],
   "metadata": {
    "collapsed": false,
    "pycharm": {
     "name": "#%%\n"
    }
   }
  },
  {
   "cell_type": "code",
   "execution_count": 133,
   "outputs": [],
   "source": [
    "for i in AllYears.index:\n",
    "    AllYears.at[i, 'Home'] = teams[AllYears.at[i, 'Home']][0]\n",
    "    AllYears.at[i, 'Away'] = teams[AllYears.at[i, 'Away']][0]\n",
    "    if AllYears.at[i, 'Winner'] == AllYears.at[i, 'Winner']:\n",
    "        AllYears.at[i, 'Winner'] = teams[AllYears.at[i, 'Winner']][0]\n",
    "    else:\n",
    "        AllYears.at[i, 'Winner'] = 'Draw'"
   ],
   "metadata": {
    "collapsed": false,
    "pycharm": {
     "name": "#%%\n"
    }
   }
  },
  {
   "cell_type": "code",
   "execution_count": 134,
   "outputs": [],
   "source": [
    "def get_regular_season(team_code):\n",
    "    home_games = AllYears[AllYears.Home==team_code][AllYears[AllYears.Home==team_code].Round=='Regular Season']\n",
    "    away_games = AllYears[AllYears.Away==team_code][AllYears[AllYears.Away==team_code].Round=='Regular Season']\n",
    "    return pd.concat([home_games, away_games]).sort_values(by=['Date'])"
   ],
   "metadata": {
    "collapsed": false,
    "pycharm": {
     "name": "#%%\n"
    }
   }
  },
  {
   "cell_type": "code",
   "execution_count": 146,
   "outputs": [
    {
     "data": {
      "text/plain": "(337, 179, 302)"
     },
     "execution_count": 146,
     "metadata": {},
     "output_type": "execute_result"
    }
   ],
   "source": [
    "def get_overall_record(team_code):\n",
    "    df = get_regular_season(team_code)\n",
    "    wins = len(df[df.Winner==team_code])\n",
    "    draws = len(df[df.Winner=='Draw'])\n",
    "    losses = len(df) - wins - draws\n",
    "    return wins, draws, losses\n",
    "get_overall_record('SKC')"
   ],
   "metadata": {
    "collapsed": false,
    "pycharm": {
     "name": "#%%\n"
    }
   }
  }
 ],
 "metadata": {
  "kernelspec": {
   "display_name": "Python 3",
   "language": "python",
   "name": "python3"
  },
  "language_info": {
   "codemirror_mode": {
    "name": "ipython",
    "version": 2
   },
   "file_extension": ".py",
   "mimetype": "text/x-python",
   "name": "python",
   "nbconvert_exporter": "python",
   "pygments_lexer": "ipython2",
   "version": "2.7.6"
  }
 },
 "nbformat": 4,
 "nbformat_minor": 0
}